{
 "cells": [
  {
   "cell_type": "code",
   "execution_count": 2,
   "metadata": {},
   "outputs": [
    {
     "name": "stdout",
     "output_type": "stream",
     "text": [
      "\n",
      "不带附加参数：\n",
      "http%3A//www.example.com/api.php%3Ftext%3D%E4%B8%AD%E6%96%87%E5%9C%A8%E8%BF%99%E9%87%8C\n",
      "\n",
      "附加不转换字符参数：\n",
      "http://www.example.com/api.php?text=%E4%B8%AD%E6%96%87%E5%9C%A8%E8%BF%99%E9%87%8C\n"
     ]
    }
   ],
   "source": [
    "from urllib.parse import quote\n",
    "\n",
    "\n",
    "url = 'http://www.example.com/api.php?text=中文在这里'\n",
    "\n",
    "# 不带附加参数\n",
    "print('\\n不带附加参数：\\n%s' % quote(url))\n",
    "\n",
    "# 附带不转换字符参数\n",
    "print('\\n附加不转换字符参数：\\n%s' % quote(url, safe='/:?='))\n",
    "\n"
   ]
  },
  {
   "cell_type": "code",
   "execution_count": null,
   "metadata": {},
   "outputs": [],
   "source": []
  }
 ],
 "metadata": {
  "kernelspec": {
   "display_name": "Python 3",
   "language": "python",
   "name": "python3"
  }
 },
 "nbformat": 4,
 "nbformat_minor": 2
}
