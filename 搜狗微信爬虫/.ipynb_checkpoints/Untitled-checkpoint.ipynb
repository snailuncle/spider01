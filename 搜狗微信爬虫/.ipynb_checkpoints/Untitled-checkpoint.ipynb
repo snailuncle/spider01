{
 "cells": [
  {
   "cell_type": "code",
   "execution_count": 1,
   "metadata": {},
   "outputs": [],
   "source": [
    "#搜狗微信页面\n",
    "# url=\"http://weixin.sogou.com/weixin?query=%E7%88%AC%E8%99%AB&type=2&page=3\"\n",
    "# query 关键词\n",
    "# type 文章\n",
    "# page 页码\n"
   ]
  },
  {
   "cell_type": "code",
   "execution_count": 4,
   "metadata": {},
   "outputs": [],
   "source": [
    "import requests\n",
    "import re\n",
    "import json\n",
    "import os\n",
    "import time\n",
    "from lxml import etree\n",
    "from urllib.parse import quote\n"
   ]
  },
  {
   "cell_type": "code",
   "execution_count": 5,
   "metadata": {},
   "outputs": [
    {
     "name": "stdout",
     "output_type": "stream",
     "text": [
      "http://weixin.sogou.com/weixin?query=爬虫&type=2&page=3\n"
     ]
    }
   ],
   "source": [
    "\n",
    "# #提取歌曲id\n",
    "# data={\n",
    "#     'query':'爬虫',\n",
    "#     'type':'2',\n",
    "#     'page':'3'\n",
    "# }\n",
    "# keyword=\"爬虫\"\n",
    "# keyword=quote(keyword)\n",
    "# url=\"http://weixin.sogou.com/weixin?query={query}&type={type}&page={page}\".format(**data)\n",
    "# print(url)\n",
    "# # 1 print('{名字}今天{动作}'.format(名字='陈某某',动作='拍视频'))#通过关键字\n",
    "# # 2 grade = {'name' : '陈某某', 'fenshu': '59'}\n",
    "# # 3 print('{name}电工考了{fenshu}'.format(**grade))#通过关键字，可用字典当关键字传入值时，在字典前加**即可"
   ]
  },
  {
   "cell_type": "code",
   "execution_count": 6,
   "metadata": {},
   "outputs": [],
   "source": [
    "from urllib.parse import urlencode\n"
   ]
  },
  {
   "cell_type": "code",
   "execution_count": null,
   "metadata": {},
   "outputs": [],
   "source": []
  },
  {
   "cell_type": "code",
   "execution_count": null,
   "metadata": {},
   "outputs": [],
   "source": []
  },
  {
   "cell_type": "code",
   "execution_count": null,
   "metadata": {},
   "outputs": [],
   "source": []
  },
  {
   "cell_type": "code",
   "execution_count": null,
   "metadata": {},
   "outputs": [],
   "source": []
  },
  {
   "cell_type": "code",
   "execution_count": null,
   "metadata": {},
   "outputs": [],
   "source": []
  },
  {
   "cell_type": "code",
   "execution_count": null,
   "metadata": {},
   "outputs": [],
   "source": []
  },
  {
   "cell_type": "code",
   "execution_count": null,
   "metadata": {},
   "outputs": [],
   "source": []
  },
  {
   "cell_type": "code",
   "execution_count": null,
   "metadata": {},
   "outputs": [],
   "source": []
  },
  {
   "cell_type": "code",
   "execution_count": null,
   "metadata": {},
   "outputs": [],
   "source": []
  },
  {
   "cell_type": "code",
   "execution_count": null,
   "metadata": {},
   "outputs": [],
   "source": [
    "html=requests.get(url).text\n",
    "html=re.search(\"(?<=callback\\().*(?=\\))\", html)\n",
    "html=html.group(0)\n",
    "html_json=json.loads(html)\n",
    "song_mid=html_json['data']['song']['list'][0]['file']['media_mid']\n",
    "print(song_mid)\n",
    "\n",
    "\n",
    "\n",
    "url='https://c.y.qq.com/v8/fcg-bin/fcg_play_single_song.fcg?songmid=%s&format=jsonp'%(song_mid)\n",
    "html=requests.get(url).text\n",
    "html=re.search(\"(?<=\\().*(?=\\))\", html)\n",
    "html=html.group(0)\n",
    "html_json=json.loads(html)\n",
    "# C400003suD9L2tvMnZ\n",
    "\n",
    "id=html_json['data'][0]['id']\n",
    "print(id)\n",
    "url=html_json['url'][str(id)]\n",
    "print(url)\n",
    "\n",
    "#写入mp3\n",
    "html=requests.get('http://%s'%url).content\n",
    "with open(r'D:/%s.mp3'%(song_name_original),'wb') as f:\n",
    "    f.write(html)"
   ]
  },
  {
   "cell_type": "code",
   "execution_count": null,
   "metadata": {},
   "outputs": [],
   "source": []
  },
  {
   "cell_type": "code",
   "execution_count": null,
   "metadata": {},
   "outputs": [],
   "source": []
  },
  {
   "cell_type": "code",
   "execution_count": null,
   "metadata": {},
   "outputs": [],
   "source": []
  },
  {
   "cell_type": "code",
   "execution_count": null,
   "metadata": {},
   "outputs": [],
   "source": []
  },
  {
   "cell_type": "code",
   "execution_count": null,
   "metadata": {},
   "outputs": [],
   "source": []
  },
  {
   "cell_type": "code",
   "execution_count": null,
   "metadata": {},
   "outputs": [],
   "source": []
  }
 ],
 "metadata": {
  "kernelspec": {
   "display_name": "Python 3",
   "language": "python",
   "name": "python3"
  },
  "language_info": {
   "codemirror_mode": {
    "name": "ipython",
    "version": 3
   },
   "file_extension": ".py",
   "mimetype": "text/x-python",
   "name": "python",
   "nbconvert_exporter": "python",
   "pygments_lexer": "ipython3",
   "version": "3.6.4"
  }
 },
 "nbformat": 4,
 "nbformat_minor": 2
}
