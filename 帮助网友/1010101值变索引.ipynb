{
 "cells": [
  {
   "cell_type": "code",
   "execution_count": 36,
   "metadata": {
    "scrolled": false
   },
   "outputs": [
    {
     "name": "stdout",
     "output_type": "stream",
     "text": [
      "D:\\Documents\\Tencent Files\\1789500304\\FileRecv\\affinity_dataset.txt\n",
      "50000\n",
      "50000\n"
     ]
    }
   ],
   "source": [
    "\n",
    "\n",
    "path=r\"D:\\Documents\\Tencent Files\\1789500304\\FileRecv\\affinity_dataset.txt\"\n",
    "print(path)\n",
    "with open(path,'r') as f:\n",
    "    file_content=f.readlines()\n",
    "print(len(file_content))\n",
    "\n",
    "\n",
    "new_path=r\"D:\\Documents\\Tencent Files\\1789500304\\FileRecv\\affinity_dataset_new.txt\"\n",
    "import sys\n",
    "new_file=[]\n",
    "for line in file_content:\n",
    "    line=line.strip()\n",
    "    if len(line)==0:\n",
    "        pass\n",
    "    else:\n",
    "        if str(line)=='0 0 0 0 0':\n",
    "            continue\n",
    "        new_line=[]\n",
    "        chars_list=line.split()\n",
    "        for i, char in enumerate(chars_list, 1):   \n",
    "            if str(char)==str(1):\n",
    "                new_line.append(i)\n",
    "        new_line=[str(i) for i in new_line]\n",
    "        new_line=' '.join(new_line)\n",
    "        new_file.append(new_line)\n",
    "new_file='\\n'.join(new_file)\n",
    "with open(new_path,'w') as f:\n",
    "    f.write(new_file)\n",
    "print(len(file_content))\n",
    "\n"
   ]
  },
  {
   "cell_type": "code",
   "execution_count": null,
   "metadata": {},
   "outputs": [],
   "source": []
  }
 ],
 "metadata": {
  "kernelspec": {
   "display_name": "Python 3",
   "language": "python",
   "name": "python3"
  },
  "language_info": {
   "codemirror_mode": {
    "name": "ipython",
    "version": 3
   },
   "file_extension": ".py",
   "mimetype": "text/x-python",
   "name": "python",
   "nbconvert_exporter": "python",
   "pygments_lexer": "ipython3",
   "version": "3.6.4"
  }
 },
 "nbformat": 4,
 "nbformat_minor": 2
}
