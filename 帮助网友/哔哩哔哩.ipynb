{
 "cells": [
  {
   "cell_type": "code",
   "execution_count": 37,
   "metadata": {
    "scrolled": false
   },
   "outputs": [
    {
     "name": "stdout",
     "output_type": "stream",
     "text": [
      "禄＆\n"
     ]
    }
   ],
   "source": [
    "from urllib.request import urlopen,urlretrieve,Request\n",
    "from bs4 import BeautifulSoup\n",
    "\n",
    "ur=r'https://www.bilibili.com/?spm_id_from=333.334.primary_menu.1'\n",
    "soup = BeautifulSoup(urlopen(ur).read(),\"lxml\")\n",
    "soup\n"
   ]
  },
  {
   "cell_type": "code",
   "execution_count": 3,
   "metadata": {},
   "outputs": [
    {
     "name": "stdout",
     "output_type": "stream",
     "text": [
      "<Response [200]>\n"
     ]
    }
   ],
   "source": [
    "#海贼王  百度百科\n",
    "#目标\n",
    "#提取标题  和   简介\n",
    "url=\"https://baike.baidu.com/item/%E8%88%AA%E6%B5%B7%E7%8E%8B/75861?fr=aladdin&fromid=8904&fromtitle=%E6%B5%B7%E8%B4%BC%E7%8E%8B\"\n",
    "headers={\n",
    "    'Accept': 'text/html,application/xhtml+xml,application/xml;q=0.9,image/webp,image/apng,*/*;q=0.8',\n",
    "    'Accept-Encoding': 'gzip, deflate, br',\n",
    "    'Accept-Language': 'zh-CN,zh;q=0.9',\n",
    "    'Cache-Control': 'max-age=0',\n",
    "    'Connection': 'keep-alive',\n",
    "    'Host': '/www.bilibili.com',\n",
    "    'Referer':'https://www.baidu.com' ,\n",
    "    'Upgrade-Insecure-Requests': '1',\n",
    "    'User-Agent': 'Mozilla/5.0 (Windows NT 6.1) AppleWebKit/537.36 (KHTML, like Gecko) Chrome/65.0.3325.32 Safari/537.36'\n",
    "}\n",
    "import requests\n",
    "from lxml import etree\n",
    "url=r'https://www.bilibili.com/?spm_id_from=333.334.primary_menu.1'\n",
    "# html=requests.get(url,headers=headers)\n",
    "html=requests.get(url)\n",
    "\n",
    "html.encoding=html.apparent_encoding\n",
    "html_text=html.text\n",
    "\n",
    "print(html)"
   ]
  },
  {
   "cell_type": "code",
   "execution_count": 4,
   "metadata": {
    "scrolled": false
   },
   "outputs": [
    {
     "name": "stdout",
     "output_type": "stream",
     "text": [
      "<!DOCTYPE html><html lang=\"zh-Hans\"><head><meta charset=\"utf-8\"><title>哔哩哔哩 (゜-゜)つロ 干杯~-bilibili</title><meta name=\"description\" content=\"bilibili是国内知名的视频弹幕网站，这里有最及时的动漫新番，最棒的ACG氛围，最有创意的Up主。大家可以在这里找到许多欢乐。\"><meta name=\"keywords\" content=\"B站,弹幕,字幕,AMV,MAD,MTV,ANIME,动漫,动漫音乐,游戏,游戏解说,ACG,galgame,动画,番组,新番,初音,洛天依,vocaloid\"><meta name=\"renderer\" content=\"webkit\"><meta http-equiv=\"X-UA-Compatible\" content=\"IE=edge\"><meta name=\"baidu-site-verification\" content=\"gbRdPloQBZ\"><meta name=\"spm_prefix\" content=\"333.334\"><meta name=\"360-site-verification\" content=\"6057b3e352a63d37c14dfc82e2ccb288\"><link rel=\"dns-prefetch\" href=\"//s1.hdslb.com\"><link rel=\"dns-prefetch\" href=\"//i0.hdslb.com\"><link rel=\"dns-prefetch\" href=\"//i1.hdslb.com\"><link rel=\"dns-prefetch\" href=\"//i2.hdslb.com\"><link rel=\"dns-prefetch\" href=\"//static.hdslb.com\"><link rel=\"shortcut icon\" href=\"//static.hdslb.com/images/favicon.ico\"><link rel=\"search\" type=\"application/opensearchdescription+xml\" href=\"//static.hdslb.com/opensearch.xml\" title=\"哔哩哔哩\"><script type=\"text/javascript\" src=\"//static.hdslb.com/js/jquery.min.js\"></script><script type=\"text/javascript\" src=\"//s1.hdslb.com/bfs/cm/st/bundle.js\" crossorigin></script><script type=\"text/javascript\">(function () {\n",
      "        var ua = window.navigator.userAgent,\n",
      "            agents = ['Android', 'iPhone', 'SymbianOS', 'Windows Phone', 'iPod'],\n",
      "            isPC = true;\n",
      "        for (var i = 0, len = agents.length; i < len; i++) {\n",
      "          if (ua.indexOf(agents[i]) > 0) {\n",
      "            isPC = false;\n",
      "            break;\n",
      "          }\n",
      "        }\n",
      "        if (!isPC) {\n",
      "          var href = window.location.href.replace('www', 'm');\n",
      "          window.location.href = href;\n",
      "        }\n",
      "      })();</script><script type=\"text/javascript\">window.spmReportData = {}\n",
      "      window.reportConfig = { sample: 1, scrollTracker: true, msgObjects: 'spmReportData', errorTracker: true }</script><link rel=\"stylesheet\" href=\"//s1.hdslb.com/bfs/static/jinkela/home/css/home.1.22fe6cf698fe7924ac3346dc58170089d210b700.css\"></head><body><div id=\"home-app\"></div><div id=\"app\" data-server-rendered=\"true\"><div class=\"bili-header-m report-wrap-module\"><div class=\"nav-menu\"><div class=\"blur-bg\"></div><div class=\"nav-mask\"></div><div class=\"bili-wrapper clearfix\"><div class=\"nav-con fl\"><ul><li report-id=\"playpage_main\" class=\"nav-item home\"><a href=\"//www.bilibili.com\" title=\"主站\" class=\"t\"><i class=\"bili-icon\"></i>主站</a></li><li report-id=\"playpage_huahua\" class=\"nav-item hbili\"><a href=\"//h.bilibili.com\" target=\"_blank\" title=\"画友\" class=\"t\">画友</a></li><li report-id=\"playpage_game\" class=\"nav-item game\"><a href=\"//game.bilibili.com\" target=\"_blank\" title=\"游戏中心\" class=\"t\">游戏中心</a><!----></li><li report-id=\"playpage_live\" class=\"nav-item live\"><a href=\"//live.bilibili.com\" target=\"_blank\" title=\"直播\" class=\"t\">直播</a><!----></li><li report-id=\"playpage_buy\" class=\"nav-item buy\"><a href=\"//show.bilibili.com/platform/home.html?msource=pc_web\" target=\"_blank\" title=\"会员购\" class=\"t\">会员购</a></li><li report-id=\"playpage_bml\" class=\"nav-item\"><a href=\"//bml.bilibili.com\" target=\"_blank\" title=\"BML\" class=\"t\"><i class=\"icon new\"></i>BML</a></li><li report-id=\"playpage_download\" class=\"nav-item mobile\"><i class=\"b-icon b-icon-app\"></i><a id=\"header-mobile-app\" href=\"//app.bilibili.com\" target=\"_blank\" title=\"下载APP\" class=\"t\">下载APP</a><!----></li></ul></div><div report-id=\"playpage_contribution\" class=\"up-load fr\"><a href=\"//member.bilibili.com/v/video/submit.html\" target=\"_blank\" class=\"u-link\">投 稿</a><!----></div><!----><!----></div></div><div id=\"banner_link\" class=\"head-banner report-wrap-module report-scroll-module\"><div class=\"head-content bili-wrapper\"><p class=\"head-title\"></p><div class=\"search\"><form class=\"searchform\"><input type=\"text\" autocomplete=\"off\" accesskey=\"s\" x-webkit-speech x-webkit-grammar=\"builtin:translate\" placeholder=\"\" value=\"\" class=\"search-keyword\"><button type=\"submit\" class=\"search-submit\"></button></form><!----><!----><a href=\"//www.bilibili.com/ranking\" target=\"_blank\" class=\"link-ranking\"><span>排行榜</span></a></div><a href=\"//www.bilibili.com\" class=\"head-logo\"></a></div><a href=\"\" target=\"_blank\" class=\"banner-link\"></a></div><div class=\"bili-wrapper\"><div id=\"primary_menu\" class=\"primary-menu report-wrap-module report-scroll-module \"><ul class=\"nav-menu\"><li class=\"home\"><a href=\"//www.bilibili.com\"><!----><div class=\"nav-name\">首页</div></a><ul class=\"sub-nav\"></ul></li><li><a href=\"//www.bilibili.com/v/douga/\"><div class=\"num-wrap\"><span>--</span></div><div class=\"nav-name\">动画</div></a><ul class=\"sub-nav\"><li><a href=\"//www.bilibili.com/v/douga/mad/\"><span>MAD·AMV</span></a></li><li><a href=\"//www.bilibili.com/v/douga/mmd/\"><span>MMD·3D</span></a></li><li><a href=\"//www.bilibili.com/v/douga/voice/\"><span>短片·手书·配音</span></a></li><li><a href=\"//www.bilibili.com/v/douga/other/\"><span>综合</span></a></li></ul></li><li><a href=\"//bangumi.bilibili.com/22/\"><div class=\"num-wrap\"><span>--</span></div><div class=\"nav-name\">番剧</div></a><ul class=\"sub-nav\"><li><a href=\"//www.bilibili.com/v/anime/serial/\"><span>连载动画</span></a></li><li><a href=\"//www.bilibili.com/v/anime/finish/\"><span>完结动画</span></a></li><li><a href=\"//www.bilibili.com/v/anime/information/\"><span>资讯</span></a></li><li><a href=\"//www.bilibili.com/v/anime/offical/\"><span>官方延伸</span></a></li><li><a href=\"//bangumi.bilibili.com/anime/timeline\"><span>新番时间表</span></a></li><li><a href=\"//bangumi.bilibili.com/anime/index\"><span>番剧索引</span></a></li></ul></li><li><a href=\"//bangumi.bilibili.com/guochuang/\"><div class=\"num-wrap\"><span>--</span></div><div class=\"nav-name\">国创</div></a><ul class=\"sub-nav\"><li><a href=\"//www.bilibili.com/v/guochuang/chinese/\"><span>国产动画</span></a></li><li><a href=\"//www.bilibili.com/v/guochuang/original/\"><span>国产原创相关</span></a></li><li><a href=\"//www.bilibili.com/v/guochuang/puppetry/\"><span>布袋戏</span></a></li><li><a href=\"//www.bilibili.com/v/guochuang/information/\"><span>资讯</span></a></li><li><a href=\"//bangumi.bilibili.com/guochuang/timeline\"><span>新番时间表</span></a></li><li><a href=\"//bangumi.bilibili.com/guochuang/index\"><span>国产动画索引</span></a></li></ul></li><li><a href=\"//www.bilibili.com/v/music/\"><div class=\"num-wrap\"><span>--</span></div><div class=\"nav-name\">音乐</div></a><ul class=\"sub-nav\"><li><a href=\"//www.bilibili.com/v/music/original/\"><span>原创音乐</span></a></li><li><a href=\"//www.bilibili.com/v/music/cover/\"><span>翻唱</span></a></li><li><a href=\"//www.bilibili.com/v/music/vocaloid/\"><span>VOCALOID·UTAU</span></a></li><li><a href=\"//www.bilibili.com/v/music/perform/\"><span>演奏</span></a></li><li><a href=\"//www.bilibili.com/v/music/coordinate/\"><span>三次元音乐</span></a></li><li><a href=\"//www.bilibili.com/v/music/oped/\"><span>OP/ED/OST</span></a></li><li><a href=\"//www.bilibili.com/v/music/collection/\"><span>音乐选集</span></a></li></ul></li><li><a href=\"//www.bilibili.com/v/dance/\"><div class=\"num-wrap\"><span>--</span></div><div class=\"nav-name\">舞蹈</div></a><ul class=\"sub-nav\"><li><a href=\"//www.bilibili.com/v/dance/otaku/\"><span>宅舞</span></a></li><li><a href=\"//www.bilibili.com/v/dance/three_d/\"><span>三次元舞蹈</span></a></li><li><a href=\"//www.bilibili.com/v/dance/demo/\"><span>舞蹈教程</span></a></li></ul></li><li><a href=\"//www.bilibili.com/v/game/\"><div class=\"num-wrap\"><span>--</span></div><div class=\"nav-name\">游戏</div></a><ul class=\"sub-nav\"><li><a href=\"//www.bilibili.com/v/game/stand_alone/\"><span>单机游戏</span></a></li><li><a href=\"//www.bilibili.com/v/game/esports/\"><span>电子竞技</span></a></li><li><a href=\"//www.bilibili.com/v/game/mobile/\"><span>手机游戏</span></a></li><li><a href=\"//www.bilibili.com/v/game/online/\"><span>网络游戏</span></a></li><li><a href=\"//www.bilibili.com/v/game/board/\"><span>桌游棋牌</span></a></li><li><a href=\"//www.bilibili.com/v/game/gmv/\"><span>GMV</span></a></li><li><a href=\"//www.bilibili.com/v/game/music/\"><span>音游</span></a></li><li><a href=\"//www.bilibili.com/v/game/mugen/\"><span>Mugen</span></a></li></ul></li><li><a href=\"//www.bilibili.com/v/technology/\"><div class=\"num-wrap\"><span>--</span></div><div class=\"nav-name\">科技</div></a><ul class=\"sub-nav\"><li><a href=\"//www.bilibili.com/v/technology/fun/\"><span>趣味科普人文</span></a></li><li><a href=\"//www.bilibili.com/v/technology/wild/\"><span>野生技术协会</span></a></li><li><a href=\"//www.bilibili.com/v/technology/speech_course/\"><span>演讲·公开课</span></a></li><li><a href=\"//www.bilibili.com/v/technology/military/\"><span>星海</span></a></li><li><a href=\"//www.bilibili.com/v/technology/digital/\"><span>数码</span></a></li><li><a href=\"//www.bilibili.com/v/technology/mechanical/\"><span>机械</span></a></li><li><a href=\"//www.bilibili.com/v/technology/automobile/\"><span>汽车</span></a></li></ul></li><li><a href=\"//www.bilibili.com/v/life/\"><div class=\"num-wrap\"><span>--</span></div><div class=\"nav-name\">生活</div></a><ul class=\"sub-nav\"><li><a href=\"//www.bilibili.com/v/life/funny/\"><span>搞笑</span></a></li><li><a href=\"//www.bilibili.com/v/life/daily/\"><span>日常</span></a></li><li><a href=\"//www.bilibili.com/v/life/food/\"><span>美食圈</span></a></li><li><a href=\"//www.bilibili.com/v/life/animal/\"><span>动物圈</span></a></li><li><a href=\"//www.bilibili.com/v/life/handmake/\"><span>手工</span></a></li><li><a href=\"//www.bilibili.com/v/life/painting/\"><span>绘画</span></a></li><li><a href=\"//www.bilibili.com/v/life/asmr/\"><span>ASMR</span></a></li><li><a href=\"//www.bilibili.com/v/life/sports/\"><span>运动</span></a></li><li><a href=\"//www.bilibili.com/v/life/other/\"><span>其他</span></a></li></ul></li><li><a href=\"//www.bilibili.com/v/kichiku/\"><div class=\"num-wrap\"><span>--</span></div><div class=\"nav-name\">鬼畜</div></a><ul class=\"sub-nav\"><li><a href=\"//www.bilibili.com/v/kichiku/guide/\"><span>鬼畜调教</span></a></li><li><a href=\"//www.bilibili.com/v/kichiku/mad/\"><span>音MAD</span></a></li><li><a href=\"//www.bilibili.com/v/kichiku/manual_vocaloid/\"><span>人力VOCALOID</span></a></li><li><a href=\"//www.bilibili.com/v/kichiku/course/\"><span>教程演示</span></a></li></ul></li><li><a href=\"//www.bilibili.com/v/fashion/\"><div class=\"num-wrap\"><span>--</span></div><div class=\"nav-name\">时尚</div></a><ul class=\"sub-nav\"><li><a href=\"//www.bilibili.com/v/fashion/makeup/\"><span>美妆</span></a></li><li><a href=\"//www.bilibili.com/v/fashion/clothing/\"><span>服饰</span></a></li><li><a href=\"//www.bilibili.com/v/fashion/aerobics/\"><span>健身</span></a></li><li><a href=\"//www.bilibili.com/v/fashion/information/\"><span>资讯</span></a></li></ul></li><li><a href=\"//www.bilibili.com/v/ad/ad/\"><div class=\"num-wrap\"><span>--</span></div><div class=\"nav-name\">广告</div></a><ul class=\"sub-nav\"><!----></ul></li><li><a href=\"//www.bilibili.com/v/ent/\"><div class=\"num-wrap\"><span>--</span></div><div class=\"nav-name\">娱乐</div></a><ul class=\"sub-nav\"><li><a href=\"//www.bilibili.com/v/ent/variety/\"><span>综艺</span></a></li><li><a href=\"//www.bilibili.com/v/ent/star/\"><span>明星</span></a></li><li><a href=\"//www.bilibili.com/v/ent/korea/\"><span>Korea相关</span></a></li></ul></li><li><a href=\"//www.bilibili.com/v/cinephile/\"><div class=\"num-wrap\"><span>--</span></div><div class=\"nav-name\">影视</div></a><ul class=\"sub-nav\"><li><a href=\"//www.bilibili.com/v/cinephile/cinecism/\"><span>影视杂谈</span></a></li><li><a href=\"//www.bilibili.com/v/cinephile/montage/\"><span>影视剪辑</span></a></li><li><a href=\"//www.bilibili.com/v/cinephile/shortfilm/\"><span>短片</span></a></li><li><a href=\"//www.bilibili.com/v/cinephile/trailer_info/\"><span>预告·资讯</span></a></li><li><a href=\"//www.bilibili.com/v/cinephile/tokusatsu/\"><span>特摄</span></a></li></ul></li><li><a href=\"//www.bilibili.com/cinema/\"><div class=\"num-wrap\"><span>--</span></div><div class=\"nav-name\">放映厅</div></a><ul class=\"sub-nav\"><li><a href=\"//www.bilibili.com/documentary/\"><span>纪录片</span></a></li><li><a href=\"//www.bilibili.com/movie/\"><span>电影</span></a></li><li><a href=\"//www.bilibili.com/tv/\"><span>电视剧</span></a></li></ul></li><li class=\"side-nav zl\"><a href=\"//www.bilibili.com/read/home\" class=\"side-link\"><i class=\"zhuanlan\"></i><span>专栏</span></a></li><li class=\"side-nav nav-square\"><a href=\"//www.bilibili.com/square\" class=\"side-link\"><i class=\"square\"></i><span>广场</span></a><div class=\"sub-nav square-wrap\"><ul><li><a href=\"//show.bilibili.com/platform/home.html\"><i class=\"icon-prim icon-vip-buy\"></i><span>会员购</span></a></li><li><a href=\"//activity.bilibili.com\"><i class=\"icon-prim icon-activity\"></i><span>活动中心</span></a></li><li><a href=\"//game.bilibili.com\"><i class=\"icon-prim icon-game\"></i><span>游戏中心</span></a></li><li><a href=\"//news.bilibili.com\"><i class=\"icon-prim icon-news\"></i><span>新闻中心</span></a></li><li><a href=\"http://h.bilibili.com\"><i class=\"icon-prim icon-hy\"></i><span>画友</span></a></li><li><a href=\"//www.bilibili.com/mango\"><i class=\"icon-prim icon-mango\"></i><span>芒果TV</span></a></li></ul><div class=\"square-field\"></div></div></li><li class=\"side-nav\"><a href=\"//live.bilibili.com\" class=\"side-link\"><i class=\"live\"></i><span>直播</span></a><div class=\"sub-nav nav-live\"><ul><li><a href=\"//live.bilibili.com/subject\"><span>推荐主播</span></a></li><li><a href=\"//live.bilibili.com/pages/area/ent\"><span>生活娱乐</span></a></li><li><a href=\"//live.bilibili.com/draw\"><span>绘画专区</span></a></li><li><a href=\"//live.bilibili.com/pages/area/ent\"><span>唱见舞见</span></a></li><li><a href=\"//live.bilibili.com/pages/area/ent\"><span>御宅文化</span></a></li><li><a href=\"//live.bilibili.com/single\"><span>单机联机</span></a></li><li><a href=\"//live.bilibili.com/online\"><span>网络游戏</span></a></li><li><a href=\"//live.bilibili.com/e-sports\"><span>电子竞技</span></a></li><li><a href=\"//live.bilibili.com/mobile-game\"><span>手游直播</span></a></li></ul><div class=\"live-field fl\"><a target=\"_blank\" href=\"//h.bilibili.com\" class=\"pic\"><img src=\"//s1.hdslb.com/bfs/static/jinkela/home/images/wh2.png\" alt=\"有文画\"></a><a target=\"_blank\" href=\"//vc.bilibili.com\" class=\"pic\"><img src=\"//s1.hdslb.com/bfs/static/jinkela/home/images/sp2.png\" alt=\"小视频\"></a></div></div></li><li class=\"side-nav\"><a href=\"//www.bilibili.com/blackroom/\" class=\"side-link\"><i class=\"blackroom\"></i><span>小黑屋</span></a></li></ul><div class=\"gif-menu nav-gif\"><a href=\"\" target=\"_blank\" title=\"\" class=\"random-p\"><img src=\"\" alt></a></div></div></div></div><div class=\"bili-wrapper\"><div id=\"chief_recommend\" class=\"chief-recommend-module report-wrap-module report-scroll-module clearfix\"><div class=\"carousel-box\"><div class=\"load-state\"><span class=\"loading\">正在加载...</span><!----><!----></div><!----></div><div class=\"recommend-module clearfix\"><!----><div class=\"groom-module home-card\"><a href=\"/video/av22232010/\" target=\"_blank\" title=\"【SING女团】《倾杯》全新电子国风单曲——岁月悠悠不染我衣袖\"><img src=\"//i1.hdslb.com/bfs/archive/bf0a09c4c8d03fe249d545afe130e8b581a2ee5b.jpg@160w_100h.jpg\" alt=\"【SING女团】《倾杯》全新电子国风单曲——岁月悠悠不染我衣袖\" width=\"160\" height=\"100\" class=\"pic\"><!----><div class=\"card-mark\"><p class=\"title\">【SING女团】《倾杯》全新电子国风单曲——岁月悠悠不染我衣袖</p><p class=\"author\">up主：SING女团</p><p class=\"play\">播放：22.7万</p></div></a><div class=\"watch-later-trigger w-later\"></div></div><div class=\"groom-module home-card\"><a href=\"/video/av22254000/\" target=\"_blank\" title=\"想吃鸡？先吃我妖精的光辉啦！！！ 中二病也要玩吃鸡#6\"><img src=\"//i1.hdslb.com/bfs/archive/cd944e7b3350a7177ff9e2961e8766748bdfcb51.jpg@160w_100h.jpg\" alt=\"想吃鸡？先吃我妖精的光辉啦！！！ 中二病也要玩吃鸡#6\" width=\"160\" height=\"100\" class=\"pic\"><!----><div class=\"card-mark\"><p class=\"title\">想吃鸡？先吃我妖精的光辉啦！！！ 中二病也要玩吃鸡#6</p><p class=\"author\">up主：守护茶茶</p><p class=\"play\">播放：20.3万</p></div></a><div class=\"watch-later-trigger w-later\"></div></div><div class=\"groom-module home-card\"><a href=\"/video/av22247932/\" target=\"_blank\" title=\"【观天下第18期】陈平：中国经济改革之路 对话斯密及马恩列斯\"><img src=\"//i2.hdslb.com/bfs/archive/c3a085928bb4cc0e05cd49a4380af7b57834bf73.jpg@160w_100h.jpg\" alt=\"【观天下第18期】陈平：中国经济改革之路 对话斯密及马恩列斯\" width=\"160\" height=\"100\" class=\"pic\"><!----><div class=\"card-mark\"><p class=\"title\">【观天下第18期】陈平：中国经济改革之路 对话斯密及马恩列斯</p><p class=\"author\">up主：观察者网</p><p class=\"play\">播放：5.1万</p></div></a><div class=\"watch-later-trigger w-later\"></div></div><div class=\"groom-module home-card\"><a href=\"/video/av22283893/\" target=\"_blank\" title=\"御姐那宽广的胸怀让人折服！拜倒在女王的裙下吧~\"><img src=\"//i0.hdslb.com/bfs/archive/7b554b1dfd0fd1c2e69ebe119b34fc4838d51712.jpg@160w_100h.jpg\" alt=\"御姐那宽广的胸怀让人折服！拜倒在女王的裙下吧~\" width=\"160\" height=\"100\" class=\"pic\"><!----><div class=\"card-mark\"><p class=\"title\">御姐那宽广的胸怀让人折服！拜倒在女王的裙下吧~</p><p class=\"author\">up主：央羊养样</p><p class=\"play\">播放：4.5万</p></div></a><div class=\"watch-later-trigger w-later\"></div></div><div class=\"groom-module home-card\"><a href=\"/video/av22271072/\" target=\"_blank\" title=\"还算好看系列【崩坏3MMD-符华】Sweet Devil【大神犬PV付】\"><img src=\"//i0.hdslb.com/bfs/archive/ae0a87c74ba821f5ed497113527ac57a5a1fcfff.jpg@160w_100h.jpg\" alt=\"还算好看系列【崩坏3MMD-符华】Sweet Devil【大神犬PV付】\" width=\"160\" height=\"100\" class=\"pic\"><!----><div class=\"card-mark\"><p class=\"title\">还算好看系列【崩坏3MMD-符华】Sweet Devil【大神犬PV付】</p><p class=\"author\">up主：CME6大神犬</p><p class=\"play\">播放：1.4万</p></div></a><div class=\"watch-later-trigger w-later\"></div></div><div class=\"groom-module home-card\"><a href=\"/video/av22285204/\" target=\"_blank\" title=\"【名作计画】做每一个男孩幻想的事情，就是动画的浪漫\"><img src=\"//i0.hdslb.com/bfs/archive/db509a512d3be05eb9dbd5a90b8ea4c679ae9f74.jpg@160w_100h.jpg\" alt=\"【名作计画】做每一个男孩幻想的事情，就是动画的浪漫\" width=\"160\" height=\"100\" class=\"pic\"><!----><div class=\"card-mark\"><p class=\"title\">【名作计画】做每一个男孩幻想的事情，就是动画的浪漫</p><p class=\"author\">up主：动漫低手咸鱼</p><p class=\"play\">播放：3.6万</p></div></a><div class=\"watch-later-trigger w-later\"></div></div><div class=\"groom-module home-card\"><a href=\"/video/av22265153/\" target=\"_blank\" title=\"[看动漫学撩妹]谁说动漫套路不能撩到妹的？手把手教你变通学套路，你绝对想不到这也能行\"><img src=\"//i0.hdslb.com/bfs/archive/a1999e862a669bf2758e79ead46e824e0dfb8988.jpg@160w_100h.jpg\" alt=\"[看动漫学撩妹]谁说动漫套路不能撩到妹的？手把手教你变通学套路，你绝对想不到这也能行\" width=\"160\" height=\"100\" class=\"pic\"><!----><div class=\"card-mark\"><p class=\"title\">[看动漫学撩妹]谁说动漫套路不能撩到妹的？手把手教你变通学套路，你绝对想不到这也能行</p><p class=\"author\">up主：一方通行kuma</p><p class=\"play\">播放：2.2万</p></div></a><div class=\"watch-later-trigger w-later\"></div></div><div class=\"groom-module home-card\"><a href=\"/video/av22286689/\" target=\"_blank\" title=\"【MHA】爆豪胜己生日贺-胜出向注意-\"><img src=\"//i1.hdslb.com/bfs/archive/59751aa55bf9b087aeb9c23b9d53b46420a75344.jpg@160w_100h.jpg\" alt=\"【MHA】爆豪胜己生日贺-胜出向注意-\" width=\"160\" height=\"100\" class=\"pic\"><!----><div class=\"card-mark\"><p class=\"title\">【MHA】爆豪胜己生日贺-胜出向注意-</p><p class=\"author\">up主：抓奶战士</p><p class=\"play\">播放：4645</p></div></a><div class=\"watch-later-trigger w-later\"></div></div><span class=\"rec-btn prev\">昨日</span><span class=\"rec-btn next\">一周</span></div></div><div id=\"home_popularize\" class=\"popularize-module report-wrap-module report-scroll-module clearfix\"><div class=\"l-con\"><div class=\"headline clearfix\"><i class=\"icon icon_t icon-promote\"></i><span class=\"name\">推广</span></div><div class=\"storey-box clearfix\"><div class=\"load-state\"><span class=\"loading\">正在加载...</span><!----><!----></div></div></div><div class=\"r-con\"><div class=\"online\"><a href=\"//www.bilibili.com/video/online.html\" target=\"_blank\" title=\"在线观看：0\">在线人数：0</a><em></em><a href=\"//www.bilibili.com/newlist.html\" target=\"_blank\">最新投稿：0</a></div><!----></div></div><!----><div id=\"special_recommend\" class=\"special-recommend-module report-wrap-module report-scroll-module clearfix\"><div class=\"l-con\"><div class=\"headline clearfix\"><i class=\"icon icon_t icon-special\"></i><a href=\"//www.bilibili.com/list/recommend/1.html\" class=\"name\">特别推荐</a></div><div class=\"storey-box clearfix\"><div class=\"load-state\"><span class=\"loading\">正在加载...</span><!----><!----></div></div></div><!----></div></div><!----><!----><!----><!----><!----></div><script>window.__INITIAL_STATE__={\"recommendData\":[{\"aid\":\"22232010\",\"typename\":\"原创\",\"title\":\"【SING女团】《倾杯》全新电子国风单曲——岁月悠悠不染我衣袖\",\"subtitle\":\"\",\"play\":226591,\"review\":1285,\"video_review\":4,\"favorites\":14221,\"mid\":7151101,\"author\":\"SING女团\",\"create\":\"2018-04-18 12:05\",\"pic\":\"http:\\u002F\\u002Fi1.hdslb.com\\u002Fbfs\\u002Farchive\\u002Fbf0a09c4c8d03fe249d545afe130e8b581a2ee5b.jpg\",\"coins\":10004,\"duration\":\"3:25\",\"badgepay\":false},{\"aid\":\"22254000\",\"typename\":\"网络游戏\",\"title\":\"想吃鸡？先吃我妖精的光辉啦！！！ 中二病也要玩吃鸡#6\",\"subtitle\":\"\",\"play\":203202,\"review\":1108,\"video_review\":2349,\"favorites\":6779,\"mid\":37946996,\"author\":\"守护茶茶\",\"create\":\"2018-04-18 17:24\",\"pic\":\"http:\\u002F\\u002Fi1.hdslb.com\\u002Fbfs\\u002Farchive\\u002Fcd944e7b3350a7177ff9e2961e8766748bdfcb51.jpg\",\"coins\":54095,\"duration\":\"6:25\",\"badgepay\":false},{\"aid\":\"22247932\",\"typename\":\"演讲• 公开课\",\"title\":\"【观天下第18期】陈平：中国经济改革之路 对话斯密及马恩列斯\",\"subtitle\":\"\",\"play\":51251,\"review\":1160,\"video_review\":3686,\"favorites\":4235,\"mid\":10330740,\"author\":\"观察者网\",\"create\":\"2018-04-18 20:35\",\"pic\":\"http:\\u002F\\u002Fi2.hdslb.com\\u002Fbfs\\u002Farchive\\u002Fc3a085928bb4cc0e05cd49a4380af7b57834bf73.jpg\",\"coins\":3469,\"duration\":\"116:54\",\"badgepay\":false},{\"aid\":\"22283893\",\"typename\":\"MMD·3D\",\"title\":\"御姐那宽广的胸怀让人折服！拜倒在女王的裙下吧~\",\"subtitle\":\"\",\"play\":44981,\"review\":185,\"video_review\":196,\"favorites\":8368,\"mid\":53148471,\"author\":\"央羊养样\",\"create\":\"2018-04-19 11:14\",\"pic\":\"http:\\u002F\\u002Fi0.hdslb.com\\u002Fbfs\\u002Farchive\\u002F7b554b1dfd0fd1c2e69ebe119b34fc4838d51712.jpg\",\"coins\":1417,\"duration\":\"6:01\",\"badgepay\":false},{\"aid\":\"22271072\",\"typename\":\"MMD·3D\",\"title\":\"还算好看系列【崩坏3MMD-符华】Sweet Devil【大神犬PV付】\",\"subtitle\":\"\",\"play\":14157,\"review\":98,\"video_review\":63,\"favorites\":2095,\"mid\":895617,\"author\":\"CME6大神犬\",\"create\":\"2018-04-19 18:00\",\"pic\":\"http:\\u002F\\u002Fi0.hdslb.com\\u002Fbfs\\u002Farchive\\u002Fae0a87c74ba821f5ed497113527ac57a5a1fcfff.jpg\",\"coins\":678,\"duration\":\"3:25\",\"badgepay\":false},{\"aid\":\"22285204\",\"typename\":\"综合\",\"title\":\"【名作计画】做每一个男孩幻想的事情，就是动画的浪漫\",\"subtitle\":\"\",\"play\":36023,\"review\":301,\"video_review\":289,\"favorites\":1614,\"mid\":904827,\"author\":\"动漫低手咸鱼\",\"create\":\"2018-04-19 16:00\",\"pic\":\"http:\\u002F\\u002Fi0.hdslb.com\\u002Fbfs\\u002Farchive\\u002Fdb509a512d3be05eb9dbd5a90b8ea4c679ae9f74.jpg\",\"coins\":3587,\"duration\":\"8:45\",\"badgepay\":false},{\"aid\":\"22265153\",\"typename\":\"综合\",\"title\":\"[看动漫学撩妹]谁说动漫套路不能撩到妹的？手把手教你变通学套路，你绝对想不到这也能行\",\"subtitle\":\"\",\"play\":22434,\"review\":315,\"video_review\":420,\"favorites\":2042,\"mid\":652315,\"author\":\"一方通行kuma\",\"create\":\"2018-04-18 21:02\",\"pic\":\"http:\\u002F\\u002Fi0.hdslb.com\\u002Fbfs\\u002Farchive\\u002Fa1999e862a669bf2758e79ead46e824e0dfb8988.jpg\",\"coins\":3135,\"duration\":\"9:03\",\"badgepay\":false},{\"aid\":\"22286689\",\"typename\":\"短片·手书·配音\",\"title\":\"【MHA】爆豪胜己生日贺-胜出向注意-\",\"subtitle\":\"\",\"play\":4645,\"review\":206,\"video_review\":189,\"favorites\":1543,\"mid\":1813648,\"author\":\"抓奶战士\",\"create\":\"2018-04-20 00:00\",\"pic\":\"http:\\u002F\\u002Fi1.hdslb.com\\u002Fbfs\\u002Farchive\\u002F59751aa55bf9b087aeb9c23b9d53b46420a75344.jpg\",\"coins\":1361,\"duration\":\"1:38\",\"badgepay\":false}]};(function(){var s;(s=document.currentScript||document.scripts[document.scripts.length-1]).parentNode.removeChild(s);}());</script><script src=\"//s1.hdslb.com/bfs/static/jinkela/home/manifest.22fe6cf698fe7924ac3346dc58170089d210b700.js\" crossorigin defer></script><script src=\"//s1.hdslb.com/bfs/static/jinkela/home/vendor.22fe6cf698fe7924ac3346dc58170089d210b700.js\" crossorigin defer></script><script src=\"//s1.hdslb.com/bfs/static/jinkela/home/home.22fe6cf698fe7924ac3346dc58170089d210b700.js\" crossorigin defer></script><div class=\"footer bili-footer report-wrap-module\"></div><script type=\"text/javascript\">if(!+\"\\v1\"){\n",
      "        document.body.innerHTML = \"<div style='background: #00a1d6; text-align: center; padding: 10px 0; color: #fff;'>为了保护你的账号安全，bilibili已不支持IE8及以下版本浏览器访问，建议你升级到IE最新版本浏览器，或使用Chrome等其他浏览器。<\\/div>\"\n",
      "      }</script><script type=\"text/javascript\" charset=\"utf-8\" src=\"//static.hdslb.com/common/js/footer.js\"></script><!-- built files will be auto injected --><script type=\"text/javascript\">//防嵌入\n",
      "      (function(){try{if(parent!=self && (parent.document.domain!=document.domain\t|| (document.referrer && !/^http(s)?:\\/\\/[.\\w-]+\\.bilibili\\.com\\//i.test(document.referrer)))){throw new Error(\"can't be iframed\");}}catch(e){window.open(location.href, \"_top\");}})();</script></body></html>\n"
     ]
    }
   ],
   "source": [
    "print(html_text)"
   ]
  },
  {
   "cell_type": "code",
   "execution_count": 7,
   "metadata": {},
   "outputs": [],
   "source": [
    "selector=etree.HTML(html_text)\n",
    "title_xpath_str=\"//div[@class='lazy-img']\"\n",
    "content=selector.xpath(title_xpath_str)\n",
    "\n",
    "for each in content:\n",
    "    print(each)"
   ]
  },
  {
   "cell_type": "code",
   "execution_count": null,
   "metadata": {},
   "outputs": [],
   "source": []
  }
 ],
 "metadata": {
  "kernelspec": {
   "display_name": "Python 3",
   "language": "python",
   "name": "python3"
  },
  "language_info": {
   "codemirror_mode": {
    "name": "ipython",
    "version": 3
   },
   "file_extension": ".py",
   "mimetype": "text/x-python",
   "name": "python",
   "nbconvert_exporter": "python",
   "pygments_lexer": "ipython3",
   "version": "3.6.4"
  }
 },
 "nbformat": 4,
 "nbformat_minor": 2
}
