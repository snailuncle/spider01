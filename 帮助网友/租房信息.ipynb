{
 "cells": [
  {
   "cell_type": "code",
   "execution_count": 52,
   "metadata": {},
   "outputs": [
    {
     "name": "stdout",
     "output_type": "stream",
     "text": [
      "\n",
      "'Accept':'text/html,application/xhtml+xml,application/xml;q=0.9,image/webp,image/apng,*/*;q=0.8',\n",
      "'Accept-Encoding':'gzip, deflate, br',\n",
      "'Accept-Language':'zh-CN,zh;q=0.9',\n",
      "'Cache-Control':'max-age=0',\n",
      "'Connection':'keep-alive',\n",
      "'Cookie':'SESSIONID=a69badre5fragimen1gjsrf411; guanjian',[m]=%5B%7B%22advid%22%3A%22797%22%2C%22link_url%22%3A%22%5C%2Fchuzu%5C%2Fx19212%5C%2F%22%2C%22title%22%3A%22%5Cu6e90%5Cu660c%5Cu8c6a%5Cu5ead%22%2C%22flash%22%3A%22%22%2C%22flashListStr%22%3Afalse%2C%22image%22%3A%22%5C%2F%5C%2Fimg.917.com%5C%2Fwww%5C%2Fimages%5C%2Fnopic.jpg%3F%22%2C%22picListStr%22%3Afalse%2C%22startTime%22%3A%221470758400%22%2C%22endTime%22%3A%224089974400%22%2C%22html%22%3A%22%22%7D%2C%7B%22advid%22%3A%22796%22%2C%22link_url%22%3A%22%5C%2Fchuzu%5C%2Fx2313732%5C%2F%22%2C%22title%22%3A%22%5Cu79b9%5Cu5dde%5Cu9999%5Cu69df%5Cu57ce%22%2C%22flash%22%3A%22%22%2C%22flashListStr%22%3Afalse%2C%22image%22%3A%22%5C%2F%5C%2Fimg.917.com%5C%2Fwww%5C%2Fimages%5C%2Fnopic.jpg%3F%22%2C%22picListStr%22%3Afalse%2C%22startTime%22%3A%221470758400%22%2C%22endTime%22%3A%224089974400%22%2C%22html%22%3A%22%22%2C%22cat_id%22%3A%22x2313732%22%7D%5D; Hm_lvt_a771485e9c553d791f25684deee8b1e5=1522590574; guanjian[q]=%5B%5D; Hm_lpvt_a771485e9c553d791f25684deee8b1e5=1522591618\n",
      "'Host':'www.917.com',\n",
      "'Upgrade-Insecure-Requests':'1',\n",
      "'User-Agent':'Mozilla/5.0 (Windows NT 6.1) AppleWebKit/537.36 (KHTML, like Gecko) Chrome/65.0.3325.32 Safari/537.36'\n"
     ]
    }
   ],
   "source": [
    "url=\"https://www.917.com/chuzu/r1/\"\n",
    "import format_headers\n",
    "import requests\n",
    "from lxml import etree\n",
    "headers=\"\"\"\n",
    "Accept: text/html,application/xhtml+xml,application/xml;q=0.9,image/webp,image/apng,*/*;q=0.8\n",
    "Accept-Encoding: gzip, deflate, br\n",
    "Accept-Language: zh-CN,zh;q=0.9\n",
    "Cache-Control: max-age=0\n",
    "Connection: keep-alive\n",
    "Cookie: SESSIONID=a69badre5fragimen1gjsrf411; guanjian[m]=%5B%7B%22advid%22%3A%22797%22%2C%22link_url%22%3A%22%5C%2Fchuzu%5C%2Fx19212%5C%2F%22%2C%22title%22%3A%22%5Cu6e90%5Cu660c%5Cu8c6a%5Cu5ead%22%2C%22flash%22%3A%22%22%2C%22flashListStr%22%3Afalse%2C%22image%22%3A%22%5C%2F%5C%2Fimg.917.com%5C%2Fwww%5C%2Fimages%5C%2Fnopic.jpg%3F%22%2C%22picListStr%22%3Afalse%2C%22startTime%22%3A%221470758400%22%2C%22endTime%22%3A%224089974400%22%2C%22html%22%3A%22%22%7D%2C%7B%22advid%22%3A%22796%22%2C%22link_url%22%3A%22%5C%2Fchuzu%5C%2Fx2313732%5C%2F%22%2C%22title%22%3A%22%5Cu79b9%5Cu5dde%5Cu9999%5Cu69df%5Cu57ce%22%2C%22flash%22%3A%22%22%2C%22flashListStr%22%3Afalse%2C%22image%22%3A%22%5C%2F%5C%2Fimg.917.com%5C%2Fwww%5C%2Fimages%5C%2Fnopic.jpg%3F%22%2C%22picListStr%22%3Afalse%2C%22startTime%22%3A%221470758400%22%2C%22endTime%22%3A%224089974400%22%2C%22html%22%3A%22%22%2C%22cat_id%22%3A%22x2313732%22%7D%5D; Hm_lvt_a771485e9c553d791f25684deee8b1e5=1522590574; guanjian[q]=%5B%5D; Hm_lpvt_a771485e9c553d791f25684deee8b1e5=1522591618\n",
    "Host: www.917.com\n",
    "Upgrade-Insecure-Requests: 1\n",
    "User-Agent: Mozilla/5.0 (Windows NT 6.1) AppleWebKit/537.36 (KHTML, like Gecko) Chrome/65.0.3325.32 Safari/537.36\n",
    "\"\"\"\n",
    "headers=format_headers.format_headers(headers,ck=0)\n",
    "print(headers)\n"
   ]
  },
  {
   "cell_type": "code",
   "execution_count": 39,
   "metadata": {},
   "outputs": [],
   "source": [
    "html=requests.get(url,headers=dict(headers))\n",
    "html_text=html.text\n",
    "print(html_text)\n",
    "\n",
    "selector=etree.HTML(html_text)\n"
   ]
  },
  {
   "cell_type": "code",
   "execution_count": 43,
   "metadata": {},
   "outputs": [],
   "source": [
    "title_xpath_str=\"//div[@class='hList']/dl[@class='list rel'][1]/dd[@class='info rel floatr']/p[@class='title']/a/text()\"\n",
    "titles=selector.xpath(xpath_str)\n",
    "detail_xpath_str=\"//div[@class='hList']/dl[@class='list rel'][1]/dd[@class='info rel floatr']/p[2]/text()\"\n",
    "details=selector.xpath(xpath_str)\n",
    "\n",
    "\n",
    "content=details"
   ]
  },
  {
   "cell_type": "code",
   "execution_count": 44,
   "metadata": {},
   "outputs": [
    {
     "name": "stdout",
     "output_type": "stream",
     "text": [
      "纺织西路 三房空房 1200出租 就一套 离白泉市场很近\n",
      "纺织西路 三房空房 1200出租 就一套 离白泉市场很近\n"
     ]
    }
   ],
   "source": [
    "for each in titles:\n",
    "    print(each)\n",
    "for each in details:\n",
    "    print(each)\n",
    "\n"
   ]
  },
  {
   "cell_type": "code",
   "execution_count": null,
   "metadata": {},
   "outputs": [],
   "source": []
  },
  {
   "cell_type": "code",
   "execution_count": null,
   "metadata": {},
   "outputs": [],
   "source": []
  },
  {
   "cell_type": "code",
   "execution_count": null,
   "metadata": {},
   "outputs": [],
   "source": []
  },
  {
   "cell_type": "code",
   "execution_count": null,
   "metadata": {},
   "outputs": [],
   "source": []
  },
  {
   "cell_type": "code",
   "execution_count": null,
   "metadata": {},
   "outputs": [],
   "source": []
  },
  {
   "cell_type": "code",
   "execution_count": null,
   "metadata": {},
   "outputs": [],
   "source": []
  },
  {
   "cell_type": "code",
   "execution_count": null,
   "metadata": {},
   "outputs": [],
   "source": []
  },
  {
   "cell_type": "code",
   "execution_count": null,
   "metadata": {},
   "outputs": [],
   "source": []
  },
  {
   "cell_type": "code",
   "execution_count": null,
   "metadata": {},
   "outputs": [],
   "source": []
  },
  {
   "cell_type": "code",
   "execution_count": null,
   "metadata": {},
   "outputs": [],
   "source": []
  },
  {
   "cell_type": "code",
   "execution_count": null,
   "metadata": {},
   "outputs": [],
   "source": []
  },
  {
   "cell_type": "code",
   "execution_count": null,
   "metadata": {},
   "outputs": [],
   "source": []
  },
  {
   "cell_type": "code",
   "execution_count": null,
   "metadata": {},
   "outputs": [],
   "source": []
  },
  {
   "cell_type": "code",
   "execution_count": null,
   "metadata": {},
   "outputs": [],
   "source": []
  },
  {
   "cell_type": "code",
   "execution_count": null,
   "metadata": {},
   "outputs": [],
   "source": []
  },
  {
   "cell_type": "code",
   "execution_count": null,
   "metadata": {},
   "outputs": [],
   "source": []
  },
  {
   "cell_type": "code",
   "execution_count": null,
   "metadata": {},
   "outputs": [],
   "source": []
  },
  {
   "cell_type": "code",
   "execution_count": null,
   "metadata": {},
   "outputs": [],
   "source": []
  },
  {
   "cell_type": "code",
   "execution_count": null,
   "metadata": {},
   "outputs": [],
   "source": []
  },
  {
   "cell_type": "code",
   "execution_count": null,
   "metadata": {},
   "outputs": [],
   "source": []
  }
 ],
 "metadata": {
  "kernelspec": {
   "display_name": "Python 3",
   "language": "python",
   "name": "python3"
  },
  "language_info": {
   "codemirror_mode": {
    "name": "ipython",
    "version": 3
   },
   "file_extension": ".py",
   "mimetype": "text/x-python",
   "name": "python",
   "nbconvert_exporter": "python",
   "pygments_lexer": "ipython3",
   "version": "3.6.4"
  }
 },
 "nbformat": 4,
 "nbformat_minor": 2
}
