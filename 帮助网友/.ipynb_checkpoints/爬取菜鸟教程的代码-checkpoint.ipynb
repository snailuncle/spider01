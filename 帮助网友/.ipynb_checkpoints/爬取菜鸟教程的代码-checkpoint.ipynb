{
 "cells": [
  {
   "cell_type": "code",
   "execution_count": null,
   "metadata": {},
   "outputs": [],
   "source": [
    "# 爬取菜鸟教程的代码\n",
    "\n",
    "url='http://www.jc.net.cn/market/search.html?keys=&area_name=&province=0&city=0&t1=%E9%BB%91%E8%89%B2%E5%8F%8A%E6%9C%89%E8%89%B2%E9%87%91%E5%B1%9E&t2=%E9%92%A2%E4%B8%9D&st=&jgjs=&pno=12'\n",
    "\n",
    "import requests\n",
    "from lxml import etree\n",
    "\n",
    "headers={\n",
    "    'Accept':'text/html,application/xhtml+xml,application/xml;q=0.9,image/webp,image/apng,*/*;q=0.8',\n",
    "    'Accept-Encoding':'gzip, deflate',\n",
    "    'Accept-Language':'zh-CN,zh;q=0.9',\n",
    "    'Cache-Control':'max-age=0',\n",
    "    'Connection':'keep-alive',\n",
    "    'Cookie':'JSESSIONID=4472A910FCABCC6770A75D4BA63CA13E-n2; BIGipServernew_web=1526835392.20480.0000; _dg_check.73d33d216ded5c22.ee16=-1; _dg_playback.73d33d216ded5c22.ee16=1; jcnet=amNuZXRfN18xODYxMjI1OTAxNl8wOTNlYjA3MDAxZmNhZjJiZTg2MmQ2ZjY4ZDYzMDU1Mw%3D%3D; 4991014=4991014%2C2018-08-24; _dg_id.73d33d216ded5c22.ee16=7a232a24a3890e26%7C%7C%7C1522119550%7C%7C%7C5%7C%7C%7C1522121277%7C%7C%7C1522119719%7C%7C%7C%7C%7C%7Cd2f018f6e9ae5d40%7C%7C%7C%7C%7C%7C%7C%7C%7C1%7C%7C%7Cundefined',\n",
    "    'Host':'www.jc.net.cn',\n",
    "    'Referer':'http://www.jc.net.cn/jsp/front/index.jsp',\n",
    "    'Upgrade-Insecure-Requests':'1',\n",
    "    'User-Agent':'Mozilla/5.0 (Windows NT 6.1) AppleWebKit/537.36 (KHTML, like Gecko) Chrome/65.0.3325.32 Safari/537.36',\n",
    "}\n",
    "\n",
    "\n",
    "html=requests.get(url,headers=headers)\n",
    "\n",
    "html_text=html.text\n",
    "\n",
    "print(html_text)\n",
    "\n",
    "selector=etree.HTML(html_text)\n",
    "\n",
    "\n",
    "\n",
    "xpath_str=\"//table[@class='table table-bordered table-hover']/tbody[@id='tbody']/tr/td[@class='gray_FONT'][2]/text()\"\n",
    "\n",
    "\n",
    "\n",
    "content=selector.xpath(xpath_str)\n",
    "print(dir(content))\n",
    "\n",
    "for each in content:\n",
    "    if len(each)>100:\n",
    "        print(each.strip())\n",
    "\n",
    "for each in content:\n",
    "    print(each.strip())\n",
    "\n"
   ]
  }
 ],
 "metadata": {
  "kernelspec": {
   "display_name": "Python 3",
   "language": "python",
   "name": "python3"
  },
  "language_info": {
   "codemirror_mode": {
    "name": "ipython",
    "version": 3
   },
   "file_extension": ".py",
   "mimetype": "text/x-python",
   "name": "python",
   "nbconvert_exporter": "python",
   "pygments_lexer": "ipython3",
   "version": "3.6.4"
  }
 },
 "nbformat": 4,
 "nbformat_minor": 2
}
