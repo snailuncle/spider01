{
 "cells": [
  {
   "cell_type": "code",
   "execution_count": 20,
   "metadata": {},
   "outputs": [
    {
     "name": "stdout",
     "output_type": "stream",
     "text": [
      "{'V字仇杀队': 'https://img3.doubanio.com/view/photo/s_ratio_poster/public/p1465235231.jpg',\n",
      " '两杆大烟枪': 'https://img1.doubanio.com/view/photo/s_ratio_poster/public/p792443418.jpg',\n",
      " '十二怒汉': 'https://img3.doubanio.com/view/photo/s_ratio_poster/public/p2173577632.jpg',\n",
      " '哈尔的移动城堡': 'https://img3.doubanio.com/view/photo/s_ratio_poster/public/p2174346180.jpg',\n",
      " '大话西游之月光宝盒': 'https://img3.doubanio.com/view/photo/s_ratio_poster/public/p1280323646.jpg',\n",
      " '天空之城': 'https://img1.doubanio.com/view/photo/s_ratio_poster/public/p1446261379.jpg',\n",
      " '少年派的奇幻漂流': 'https://img3.doubanio.com/view/photo/s_ratio_poster/public/p1784592701.jpg',\n",
      " '怦然心动': 'https://img3.doubanio.com/view/photo/s_ratio_poster/public/p663036666.jpg',\n",
      " '指环王3：王者无敌': 'https://img3.doubanio.com/view/photo/s_ratio_poster/public/p1910825503.jpg',\n",
      " '控方证人': 'https://img1.doubanio.com/view/photo/s_ratio_poster/public/p1505392928.jpg',\n",
      " '搏击俱乐部': 'https://img1.doubanio.com/view/photo/s_ratio_poster/public/p1910926158.jpg',\n",
      " '教父2': 'https://img1.doubanio.com/view/photo/s_ratio_poster/public/p2194138787.jpg',\n",
      " '死亡诗社': 'https://img3.doubanio.com/view/photo/s_ratio_poster/public/p1910824340.jpg',\n",
      " '活着': 'https://img3.doubanio.com/view/photo/s_ratio_poster/public/p2513253791.jpg',\n",
      " '海豚湾': 'https://img3.doubanio.com/view/photo/s_ratio_poster/public/p455222172.jpg',\n",
      " '疯狂动物城': 'https://img1.doubanio.com/view/photo/s_ratio_poster/public/p2315672647.jpg',\n",
      " '窃听风暴': 'https://img1.doubanio.com/view/photo/s_ratio_poster/public/p1808872109.jpg',\n",
      " '罗马假日': 'https://img3.doubanio.com/view/photo/s_ratio_poster/public/p2189265085.jpg',\n",
      " '美丽心灵': 'https://img3.doubanio.com/view/photo/s_ratio_poster/public/p1665997400.jpg',\n",
      " '蝙蝠侠：黑暗骑士': 'https://img3.doubanio.com/view/photo/s_ratio_poster/public/p462657443.jpg',\n",
      " '辩护人': 'https://img3.doubanio.com/view/photo/s_ratio_poster/public/p2158166535.jpg',\n",
      " '闻香识女人': 'https://img1.doubanio.com/view/photo/s_ratio_poster/public/p925123037.jpg',\n",
      " '飞屋环游记': 'https://img3.doubanio.com/view/photo/s_ratio_poster/public/p2364094053.jpg',\n",
      " '飞越疯人院': 'https://img1.doubanio.com/view/photo/s_ratio_poster/public/p792238287.jpg',\n",
      " '鬼子来了': 'https://img3.doubanio.com/view/photo/s_ratio_poster/public/p1181775734.jpg'}\n"
     ]
    }
   ],
   "source": [
    "import requests\n",
    "import re\n",
    "import sys  \n",
    "from lxml import etree\n",
    "import pprint\n",
    "\n",
    "# with open('D:\\\\123.txt','a') as file:\n",
    "#     提取电影名称和电影海报链接\n",
    "#     页码每次加25\n",
    "#     0  25  50\n",
    "# https://movie.douban.com/top250?start=50\n",
    "# for n in range(0,25,25):\n",
    "url='https://movie.douban.com/top250?start='+str(25)\n",
    "html=requests.get(url)\n",
    "html_text=html.text\n",
    "selector=etree.HTML(html_text)\n",
    "\n",
    "\n",
    "\n",
    "xpath_img=\"//div[@class='article']/ol[@class='grid_view']/li/div[@class='item']/div[@class='pic']/a/img/@src\"\n",
    "xpath_title=\"//div[@class='article']/ol[@class='grid_view']/li/div[@class='item']/div[@class='info']/div[@class='hd']/a/span[@class='title'][1]/text()\"\n",
    "titles=selector.xpath(xpath_title)\n",
    "imgs=selector.xpath(xpath_img)\n",
    "info=dict(zip(titles,imgs))\n",
    "pprint.pprint(info)"
   ]
  },
  {
   "cell_type": "code",
   "execution_count": null,
   "metadata": {},
   "outputs": [],
   "source": []
  }
 ],
 "metadata": {
  "kernelspec": {
   "display_name": "Python 3",
   "language": "python",
   "name": "python3"
  },
  "language_info": {
   "codemirror_mode": {
    "name": "ipython",
    "version": 3
   },
   "file_extension": ".py",
   "mimetype": "text/x-python",
   "name": "python",
   "nbconvert_exporter": "python",
   "pygments_lexer": "ipython3",
   "version": "3.6.4"
  }
 },
 "nbformat": 4,
 "nbformat_minor": 2
}
