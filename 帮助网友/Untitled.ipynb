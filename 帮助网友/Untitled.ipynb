{
 "cells": [
  {
   "cell_type": "code",
   "execution_count": 15,
   "metadata": {},
   "outputs": [
    {
     "name": "stdout",
     "output_type": "stream",
     "text": [
      "a\n"
     ]
    }
   ],
   "source": [
    "from lxml import html,etree\n",
    "text1 = '<a>123<br>345</a>'\n",
    "root = html.fromstring(text1)\n",
    "\n",
    "p=root.xpath(\"//*[text()=345]\")\n",
    "pp=p[0].tag\n",
    "print(pp)\n",
    "\n",
    "# #p=root.xpath(\"//*[contains(text(),'345')]/..\")\n",
    "\n",
    "# print(pp)\n",
    "# #detail_xpath_str=\"//div[@id='content']/div[contains(@class,'article_container')]/div[@class='context']/div[@id='post_content']\"\n"
   ]
  },
  {
   "cell_type": "code",
   "execution_count": null,
   "metadata": {},
   "outputs": [],
   "source": []
  }
 ],
 "metadata": {
  "kernelspec": {
   "display_name": "Python 3",
   "language": "python",
   "name": "python3"
  },
  "language_info": {
   "codemirror_mode": {
    "name": "ipython",
    "version": 3
   },
   "file_extension": ".py",
   "mimetype": "text/x-python",
   "name": "python",
   "nbconvert_exporter": "python",
   "pygments_lexer": "ipython3",
   "version": "3.6.4"
  }
 },
 "nbformat": 4,
 "nbformat_minor": 2
}
