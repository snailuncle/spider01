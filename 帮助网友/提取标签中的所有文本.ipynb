{
 "cells": [
  {
   "cell_type": "code",
   "execution_count": 58,
   "metadata": {},
   "outputs": [
    {
     "name": "stdout",
     "output_type": "stream",
     "text": [
      "Python 练习实例1\n",
      "<class 'list'>\n",
      "你看这是啥:   Python 100例\n",
      "你看这是啥:  题目：有四个数字：1、2、3、4，能组成多少个互不相同且无重复数字的三位数？各是多少？\n",
      "你看这是啥:  程序分析：可填在百位、十位、个位的数字都是1、2、3、4。组成所有的排列后再去\r\n",
      "掉不满足条件的排列。\n",
      "你看这是啥:  程序源代码：\n",
      "你看这是啥:  以上实例输出结果为：\n",
      "你看这是啥:   Python 100例\n",
      "代码都是啥: \n",
      " #!/usr/bin/python\n",
      "# -*- coding: UTF-8 -*-\n",
      " \n",
      "for i in range(1,5):\n",
      "    for j in range(1,5):\n",
      "        for k in range(1,5):\n",
      "            if( i != k ) and (i != j) and (j != k):\n",
      "                print i,j,k\n"
     ]
    }
   ],
   "source": [
    "import requests\n",
    "from lxml import etree\n",
    "url='http://www.runoob.com/python/python-exercise-example1.html'\n",
    "headers={\n",
    "'User-Agent':'Mozilla/5.0 (Windows NT 6.1; WOW64) AppleWebKit/537.36 (KHTML, like Gecko) Chrome/64.0.3282.140 Safari/537.36'\n",
    "}\n",
    "r=requests.get(url,headers=headers).text\n",
    "html=etree.HTML(r)\n",
    "article_intro=html.xpath(\"//div[@class='article-body']/div[@id='content']/h1\")\n",
    "title=html.xpath(\"//div[@id='content']/p\")\n",
    "code=html.xpath(\"//div[@id='content']/div[@class='example']/div[@class='example_code']/div[@class='hl-main']\")\n",
    "print(article_intro[0].text)\n",
    "print(type(title))\n",
    "for each in title:\n",
    "    print(\"你看这是啥: \",each.xpath('string(.)'))\n",
    "print(\"代码都是啥: \\n\",code[0].xpath('string(.)'))"
   ]
  },
  {
   "cell_type": "code",
   "execution_count": null,
   "metadata": {},
   "outputs": [],
   "source": []
  },
  {
   "cell_type": "code",
   "execution_count": null,
   "metadata": {},
   "outputs": [],
   "source": []
  },
  {
   "cell_type": "code",
   "execution_count": null,
   "metadata": {},
   "outputs": [],
   "source": []
  },
  {
   "cell_type": "code",
   "execution_count": null,
   "metadata": {},
   "outputs": [],
   "source": []
  },
  {
   "cell_type": "code",
   "execution_count": null,
   "metadata": {},
   "outputs": [],
   "source": []
  },
  {
   "cell_type": "code",
   "execution_count": null,
   "metadata": {},
   "outputs": [],
   "source": []
  },
  {
   "cell_type": "code",
   "execution_count": null,
   "metadata": {},
   "outputs": [],
   "source": []
  },
  {
   "cell_type": "code",
   "execution_count": null,
   "metadata": {},
   "outputs": [],
   "source": []
  },
  {
   "cell_type": "code",
   "execution_count": null,
   "metadata": {},
   "outputs": [],
   "source": []
  },
  {
   "cell_type": "code",
   "execution_count": null,
   "metadata": {},
   "outputs": [],
   "source": []
  },
  {
   "cell_type": "code",
   "execution_count": null,
   "metadata": {},
   "outputs": [],
   "source": []
  },
  {
   "cell_type": "code",
   "execution_count": null,
   "metadata": {},
   "outputs": [],
   "source": []
  },
  {
   "cell_type": "code",
   "execution_count": null,
   "metadata": {},
   "outputs": [],
   "source": []
  }
 ],
 "metadata": {
  "kernelspec": {
   "display_name": "Python 3",
   "language": "python",
   "name": "python3"
  },
  "language_info": {
   "codemirror_mode": {
    "name": "ipython",
    "version": 3
   },
   "file_extension": ".py",
   "mimetype": "text/x-python",
   "name": "python",
   "nbconvert_exporter": "python",
   "pygments_lexer": "ipython3",
   "version": "3.6.4"
  }
 },
 "nbformat": 4,
 "nbformat_minor": 2
}
