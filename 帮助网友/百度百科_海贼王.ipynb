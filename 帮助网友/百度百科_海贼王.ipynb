{
 "cells": [
  {
   "cell_type": "code",
   "execution_count": 24,
   "metadata": {},
   "outputs": [
    {
     "name": "stdout",
     "output_type": "stream",
     "text": [
      "航海王\n"
     ]
    }
   ],
   "source": [
    "#海贼王  百度百科\n",
    "#目标\n",
    "#提取标题  和   简介\n",
    "url=\"https://baike.baidu.com/item/%E8%88%AA%E6%B5%B7%E7%8E%8B/75861?fr=aladdin&fromid=8904&fromtitle=%E6%B5%B7%E8%B4%BC%E7%8E%8B\"\n",
    "headers={\n",
    "    'Accept': 'text/html,application/xhtml+xml,application/xml;q=0.9,image/webp,image/apng,*/*;q=0.8',\n",
    "    'Accept-Encoding': 'gzip, deflate, br',\n",
    "    'Accept-Language': 'zh-CN,zh;q=0.9',\n",
    "    'Cache-Control': 'max-age=0',\n",
    "    'Connection': 'keep-alive',\n",
    "    'Host': 'baike.baidu.com',\n",
    "    'Referer':'https://www.baidu.com/s?ie=UTF-8&wd=baidu' ,\n",
    "    'Upgrade-Insecure-Requests': '1',\n",
    "    'User-Agent': 'Mozilla/5.0 (Windows NT 6.1) AppleWebKit/537.36 (KHTML, like Gecko) Chrome/65.0.3325.32 Safari/537.36'\n",
    "}\n",
    "import requests\n",
    "from lxml import etree\n",
    "\n",
    "html=requests.get(url,headers=headers)\n",
    "html.encoding=html.apparent_encoding\n",
    "html_text=html.text\n",
    "\n",
    "selector=etree.HTML(html_text)\n",
    "title_xpath_str=\"//div[@class='main-content']/dl[@class='lemmaWgt-lemmaTitle lemmaWgt-lemmaTitle-']/dd[@class='lemmaWgt-lemmaTitle-title']/h1/text()\"\n",
    "content=selector.xpath(title_xpath_str)\n",
    "\n",
    "for each in content:\n",
    "    print(each)"
   ]
  },
  {
   "cell_type": "code",
   "execution_count": null,
   "metadata": {},
   "outputs": [],
   "source": []
  }
 ],
 "metadata": {
  "kernelspec": {
   "display_name": "Python 3",
   "language": "python",
   "name": "python3"
  },
  "language_info": {
   "codemirror_mode": {
    "name": "ipython",
    "version": 3
   },
   "file_extension": ".py",
   "mimetype": "text/x-python",
   "name": "python",
   "nbconvert_exporter": "python",
   "pygments_lexer": "ipython3",
   "version": "3.6.4"
  }
 },
 "nbformat": 4,
 "nbformat_minor": 2
}
