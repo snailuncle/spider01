{
 "cells": [
  {
   "cell_type": "code",
   "execution_count": 4,
   "metadata": {},
   "outputs": [],
   "source": [
    "\n",
    "url=\"http://www.qq.com\"\n",
    "headers={\n",
    "    'Accept': 'text/html,application/xhtml+xml,application/xml;q=0.9,image/webp,image/apng,*/*;q=0.8',\n",
    "    'Accept-Encoding': 'gzip, deflate',\n",
    "    'Accept-Language': 'zh-CN,zh;q=0.9',\n",
    "    'Cache-Control': 'max-age=0',\n",
    "    'Connection': 'keep-alive',\n",
    "    'Host': 'www.qq.com',\n",
    "    'Referer':'https://www.baidu.com' ,\n",
    "    'Upgrade-Insecure-Requests': '1',\n",
    "    'User-Agent': 'Mozilla/5.0 (Windows NT 6.1) AppleWebKit/537.36 (KHTML, like Gecko) Chrome/65.0.3325.32 Safari/537.36'\n",
    "}\n",
    "import requests,re,os\n",
    "from lxml import etree\n",
    "\n",
    "html=requests.get(url,headers=headers)\n",
    "html.encoding=html.apparent_encoding\n",
    "html_text=html.text\n",
    "\n",
    "pattern = re.compile(r'http://img.+?\\.jpg')   # 查找数字\n",
    "result1 = pattern.findall(html.text)\n",
    "\n",
    "img_dir='D:/qq_img/'\n",
    "for img in result1:\n",
    "    filename = os.path.basename(img)\n",
    "    img_path=img_dir+filename\n",
    "    with open(img_path,'wb') as f:\n",
    "        r=requests.get(img).content\n",
    "        f.write(r)\n",
    "\n",
    "\n",
    "# selector=etree.HTML(html_text)\n",
    "# title_xpath_str=\"//div[@class='main-content']/dl[@class='lemmaWgt-lemmaTitle lemmaWgt-lemmaTitle-']/dd[@class='lemmaWgt-lemmaTitle-title']/h1/text()\"\n",
    "# content=selector.xpath(title_xpath_str)\n",
    "\n",
    "# for each in content:\n",
    "#     print(each)"
   ]
  }
 ],
 "metadata": {
  "kernelspec": {
   "display_name": "Python 3",
   "language": "python",
   "name": "python3"
  },
  "language_info": {
   "codemirror_mode": {
    "name": "ipython",
    "version": 3
   },
   "file_extension": ".py",
   "mimetype": "text/x-python",
   "name": "python",
   "nbconvert_exporter": "python",
   "pygments_lexer": "ipython3",
   "version": "3.6.4"
  }
 },
 "nbformat": 4,
 "nbformat_minor": 2
}
