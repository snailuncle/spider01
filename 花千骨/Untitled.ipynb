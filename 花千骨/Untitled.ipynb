{
 "cells": [
  {
   "cell_type": "code",
   "execution_count": 2,
   "metadata": {},
   "outputs": [],
   "source": [
    "url='http://www.iqiyi.com/v_19rroheauw.html?vfm=2002_2345f'\n",
    "import requests\n",
    "import requests,re,time\n",
    "S=requests.Session()\n"
   ]
  },
  {
   "cell_type": "code",
   "execution_count": null,
   "metadata": {},
   "outputs": [],
   "source": [
    "\n",
    "\n",
    "def video_get_from_url(target_url,serial_numbers):\n",
    "    target_response = S.get(url=target_url, stream=True)\n",
    "    target_html = target_response.content\n",
    "    file_name=re.search(r'(\\w+?(?=\\.ts\\?))', target_url).group()\n",
    "    # with open(r'D:/spider01/花千骨/'+str(file_name)+'.ts','ab') as f:\n",
    "    with open(r'D:/spider01/花千骨/'+'花千骨第一集'+'.ts','ab') as f:\n",
    "        f.write(target_html)\n",
    "\n",
    "#读取文本,提取url\n",
    "#D:\\spider01\\爱奇艺\\花千骨.txt\n",
    "txt_path=r\"D:\\spider01\\爱奇艺\\花千骨.txt\"\n",
    "pattern =re.compile('http://.*?(?= )')\n",
    "with open(txt_path,'r') as f:\n",
    "    content=f.read()\n",
    "# print(content)\n",
    "result= pattern.finditer(content)\n",
    "serial_numbers=1\n",
    "for match in result:\n",
    "    url=match.group().strip()\n",
    "    print(serial_numbers)\n",
    "    try:\n",
    "        video_get_from_url(url,serial_numbers)\n",
    "        serial_numbers+=1\n",
    "        time.sleep(0.003)\n",
    "    except Exception as e:\n",
    "        print(e)"
   ]
  },
  {
   "cell_type": "code",
   "execution_count": null,
   "metadata": {},
   "outputs": [],
   "source": [
    "#提取视频信息用you-get\n",
    "os.pop"
   ]
  },
  {
   "cell_type": "code",
   "execution_count": null,
   "metadata": {},
   "outputs": [],
   "source": []
  },
  {
   "cell_type": "code",
   "execution_count": null,
   "metadata": {},
   "outputs": [],
   "source": []
  },
  {
   "cell_type": "code",
   "execution_count": null,
   "metadata": {},
   "outputs": [],
   "source": []
  },
  {
   "cell_type": "code",
   "execution_count": null,
   "metadata": {},
   "outputs": [],
   "source": []
  },
  {
   "cell_type": "code",
   "execution_count": null,
   "metadata": {},
   "outputs": [],
   "source": []
  },
  {
   "cell_type": "code",
   "execution_count": null,
   "metadata": {},
   "outputs": [],
   "source": []
  }
 ],
 "metadata": {
  "kernelspec": {
   "display_name": "Python 3",
   "language": "python",
   "name": "python3"
  },
  "language_info": {
   "codemirror_mode": {
    "name": "ipython",
    "version": 3
   },
   "file_extension": ".py",
   "mimetype": "text/x-python",
   "name": "python",
   "nbconvert_exporter": "python",
   "pygments_lexer": "ipython3",
   "version": "3.6.4"
  }
 },
 "nbformat": 4,
 "nbformat_minor": 2
}
