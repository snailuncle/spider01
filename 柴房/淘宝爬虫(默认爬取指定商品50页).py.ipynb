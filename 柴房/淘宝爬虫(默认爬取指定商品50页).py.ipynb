{
 "cells": [
  {
   "cell_type": "code",
   "execution_count": 98,
   "metadata": {},
   "outputs": [
    {
     "name": "stdout",
     "output_type": "stream",
     "text": [
      "0https://s.taobao.com/search?q=python%E7%88%AC%E8%99%AB&s=0&ie=utf8\n",
      "1https://s.taobao.com/search?q=python%E7%88%AC%E8%99%AB&s=44&ie=utf8\n",
      "2https://s.taobao.com/search?q=python%E7%88%AC%E8%99%AB&s=88&ie=utf8\n",
      "3https://s.taobao.com/search?q=python%E7%88%AC%E8%99%AB&s=132&ie=utf8\n",
      "4https://s.taobao.com/search?q=python%E7%88%AC%E8%99%AB&s=176&ie=utf8\n",
      "5https://s.taobao.com/search?q=python%E7%88%AC%E8%99%AB&s=220&ie=utf8\n",
      "6https://s.taobao.com/search?q=python%E7%88%AC%E8%99%AB&s=264&ie=utf8\n",
      "7https://s.taobao.com/search?q=python%E7%88%AC%E8%99%AB&s=308&ie=utf8\n",
      "8https://s.taobao.com/search?q=python%E7%88%AC%E8%99%AB&s=352&ie=utf8\n",
      "9https://s.taobao.com/search?q=python%E7%88%AC%E8%99%AB&s=396&ie=utf8\n",
      "10https://s.taobao.com/search?q=python%E7%88%AC%E8%99%AB&s=440&ie=utf8\n",
      "11https://s.taobao.com/search?q=python%E7%88%AC%E8%99%AB&s=484&ie=utf8\n",
      "12https://s.taobao.com/search?q=python%E7%88%AC%E8%99%AB&s=528&ie=utf8\n",
      "13https://s.taobao.com/search?q=python%E7%88%AC%E8%99%AB&s=572&ie=utf8\n",
      "14https://s.taobao.com/search?q=python%E7%88%AC%E8%99%AB&s=616&ie=utf8\n",
      "15https://s.taobao.com/search?q=python%E7%88%AC%E8%99%AB&s=660&ie=utf8\n",
      "16https://s.taobao.com/search?q=python%E7%88%AC%E8%99%AB&s=704&ie=utf8\n",
      "17https://s.taobao.com/search?q=python%E7%88%AC%E8%99%AB&s=748&ie=utf8\n",
      "18https://s.taobao.com/search?q=python%E7%88%AC%E8%99%AB&s=792&ie=utf8\n",
      "19https://s.taobao.com/search?q=python%E7%88%AC%E8%99%AB&s=836&ie=utf8\n",
      "20https://s.taobao.com/search?q=python%E7%88%AC%E8%99%AB&s=880&ie=utf8\n",
      "21https://s.taobao.com/search?q=python%E7%88%AC%E8%99%AB&s=924&ie=utf8\n",
      "22https://s.taobao.com/search?q=python%E7%88%AC%E8%99%AB&s=968&ie=utf8\n",
      "23https://s.taobao.com/search?q=python%E7%88%AC%E8%99%AB&s=1012&ie=utf8\n",
      "24https://s.taobao.com/search?q=python%E7%88%AC%E8%99%AB&s=1056&ie=utf8\n",
      "25https://s.taobao.com/search?q=python%E7%88%AC%E8%99%AB&s=1100&ie=utf8\n",
      "26https://s.taobao.com/search?q=python%E7%88%AC%E8%99%AB&s=1144&ie=utf8\n",
      "27https://s.taobao.com/search?q=python%E7%88%AC%E8%99%AB&s=1188&ie=utf8\n",
      "28https://s.taobao.com/search?q=python%E7%88%AC%E8%99%AB&s=1232&ie=utf8\n",
      "29https://s.taobao.com/search?q=python%E7%88%AC%E8%99%AB&s=1276&ie=utf8\n",
      "30https://s.taobao.com/search?q=python%E7%88%AC%E8%99%AB&s=1320&ie=utf8\n",
      "31https://s.taobao.com/search?q=python%E7%88%AC%E8%99%AB&s=1364&ie=utf8\n",
      "32https://s.taobao.com/search?q=python%E7%88%AC%E8%99%AB&s=1408&ie=utf8\n",
      "33https://s.taobao.com/search?q=python%E7%88%AC%E8%99%AB&s=1452&ie=utf8\n",
      "34https://s.taobao.com/search?q=python%E7%88%AC%E8%99%AB&s=1496&ie=utf8\n",
      "35https://s.taobao.com/search?q=python%E7%88%AC%E8%99%AB&s=1540&ie=utf8\n",
      "36https://s.taobao.com/search?q=python%E7%88%AC%E8%99%AB&s=1584&ie=utf8\n",
      "37https://s.taobao.com/search?q=python%E7%88%AC%E8%99%AB&s=1628&ie=utf8\n",
      "38https://s.taobao.com/search?q=python%E7%88%AC%E8%99%AB&s=1672&ie=utf8\n",
      "39https://s.taobao.com/search?q=python%E7%88%AC%E8%99%AB&s=1716&ie=utf8\n",
      "40https://s.taobao.com/search?q=python%E7%88%AC%E8%99%AB&s=1760&ie=utf8\n",
      "41https://s.taobao.com/search?q=python%E7%88%AC%E8%99%AB&s=1804&ie=utf8\n",
      "42https://s.taobao.com/search?q=python%E7%88%AC%E8%99%AB&s=1848&ie=utf8\n",
      "43https://s.taobao.com/search?q=python%E7%88%AC%E8%99%AB&s=1892&ie=utf8\n",
      "44https://s.taobao.com/search?q=python%E7%88%AC%E8%99%AB&s=1936&ie=utf8\n",
      "45https://s.taobao.com/search?q=python%E7%88%AC%E8%99%AB&s=1980&ie=utf8\n",
      "46https://s.taobao.com/search?q=python%E7%88%AC%E8%99%AB&s=2024&ie=utf8\n",
      "47https://s.taobao.com/search?q=python%E7%88%AC%E8%99%AB&s=2068&ie=utf8\n",
      "48https://s.taobao.com/search?q=python%E7%88%AC%E8%99%AB&s=2112&ie=utf8\n",
      "49https://s.taobao.com/search?q=python%E7%88%AC%E8%99%AB&s=2156&ie=utf8\n"
     ]
    }
   ],
   "source": [
    "import re\n",
    "import requests\n",
    "url='https://s.taobao.com/search'\n",
    "payload={'q':'python爬虫','s':'0','ie':'utf8'}\n",
    "file=open('淘宝翻页爬取.txt','w',encoding='utf-8')\n",
    "\n",
    "for k in range(0,50):\n",
    "    payload['s']=44*k\n",
    "    resp=requests.get(url,params=payload)\n",
    "    print(str(k)+resp.url)\n",
    "    resp.encoding='utf-8'\n",
    "    raw_title = re.findall(r'\"raw_title\":\"([^\"]+)\"',resp.text,re.I)\n",
    "    view_price = re.findall(r'\"view_price\":\"([^\"]+)\"',resp.text,re.I)\n",
    "    view_sales = re.findall(r'\"view_sales\":\"([^\"]+)\"',resp.text,re.I)\n",
    "    nick = re.findall(r'\"nick\":\"([^\"]+)\"',resp.text,re.I)\n",
    "    item_loc = re.findall(r'\"item_loc\":\"([^\"]+)\"',resp.text,re.I)\n",
    "    x=len(raw_title)\n",
    "    for i in range(0,x):\n",
    "        info=str(k*44+i+1) + '    title: '+raw_title[i] +'    price: '+view_price[i] +'    sale: '+view_sales[i] +'    nick: '+nick[i] +'    location: '+item_loc[i]\n",
    "        info=info+'\\n\\n'\n",
    "        file.write(info)\n",
    "\n",
    "file.close()\n",
    "\n"
   ]
  },
  {
   "cell_type": "code",
   "execution_count": null,
   "metadata": {},
   "outputs": [],
   "source": []
  }
 ],
 "metadata": {
  "kernelspec": {
   "display_name": "Python 3",
   "language": "python",
   "name": "python3"
  },
  "language_info": {
   "codemirror_mode": {
    "name": "ipython",
    "version": 3
   },
   "file_extension": ".py",
   "mimetype": "text/x-python",
   "name": "python",
   "nbconvert_exporter": "python",
   "pygments_lexer": "ipython3",
   "version": "3.6.4"
  }
 },
 "nbformat": 4,
 "nbformat_minor": 2
}
