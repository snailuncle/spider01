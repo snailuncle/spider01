{
 "cells": [
  {
   "cell_type": "code",
   "execution_count": 2,
   "metadata": {},
   "outputs": [
    {
     "name": "stdout",
     "output_type": "stream",
     "text": [
      "try的第一行\n",
      "与while同在\n"
     ]
    }
   ],
   "source": [
    "while True:\n",
    "    try:\n",
    "        print('try的第一行')\n",
    "        break\n",
    "        print('try的第二行')\n",
    "        raise Exception(\"抛出一个异常\") \n",
    "    except Exception:\n",
    "        print('except第一行')\n",
    "print('与while同在')"
   ]
  },
  {
   "cell_type": "code",
   "execution_count": null,
   "metadata": {},
   "outputs": [],
   "source": []
  }
 ],
 "metadata": {
  "kernelspec": {
   "display_name": "Python 3",
   "language": "python",
   "name": "python3"
  },
  "language_info": {
   "codemirror_mode": {
    "name": "ipython",
    "version": 3
   },
   "file_extension": ".py",
   "mimetype": "text/x-python",
   "name": "python",
   "nbconvert_exporter": "python",
   "pygments_lexer": "ipython3",
   "version": "3.6.4"
  }
 },
 "nbformat": 4,
 "nbformat_minor": 2
}
