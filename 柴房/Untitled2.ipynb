{
 "cells": [
  {
   "cell_type": "code",
   "execution_count": 35,
   "metadata": {},
   "outputs": [
    {
     "name": "stdout",
     "output_type": "stream",
     "text": [
      "{\"code\":\"A00006\",\"data\":1102309111}\n",
      "2333\n"
     ]
    }
   ],
   "source": [
    "#!/usr/bin/python\n",
    "#由于阿里云服务器SMTP端口25不能使用\n",
    "#改为SSL  465端口\n",
    "import smtplib\n",
    "from email.mime.text import MIMEText\n",
    "import requests\n",
    "from lxml import etree\n",
    "import os\n",
    "import time\n",
    "import sys\n",
    "import re\n",
    "import urllib\n",
    "import json\n",
    "# weibo_nickname='朱荣2800com'\n",
    "weibo_nickname='何炅'\n",
    "\n",
    "weibo_nickname_urllib_parse_quote=urllib.parse.quote(weibo_nickname)\n",
    "\n",
    "weibo_path=r\"C:\\Users\\Administrator\\Desktop\\weibo_content.html\"\n",
    "# url=\"https://weibo.cn/\"\n",
    "url=\"http://open.weibo.com/widget/ajax_getuidnick.php?rnd=0.0776557036491401\"\n",
    "headers={\n",
    "'Accept':'*/*',\n",
    "'Accept-Encoding':'gzip, deflate',\n",
    "'Accept-Language':'zh-CN,zh;q=0.9',\n",
    "'Connection':'keep-alive',\n",
    "'Content-Length':'39',\n",
    "'Content-Type':'application/x-www-form-urlencoded',\n",
    "'Cookie':'SINAGLOBAL=1924335624445.1592.1521612311234; UM_distinctid=162e7df297143-028e7fea160d1a-37465265-15f900-162e7df297223; wvr=6; UOR=bbs.anjian.com,widget.weibo.com,www.baidu.com; SSOLoginState=1524883163; SCF=Al2_OzHAlbyaVCtImtWVFNtoJRwl7IzQ-J25aGNCBDfYIpo9D7TKz8eF8TSlQ5hXIkM57-J_CvGPPBeBotEGdBQ.; SUHB=0qj1y-h-e7rD1C; _s_tentry=login.sina.com.cn; Apache=6033849433281.56.1524883166313; ULV=1524883166362:19:14:4:6033849433281.56.1524883166313:1524831821374; SUBP=0033WrSXqPxfM725Ws9jqgMF55529P9D9WWVs3TdKcmkTn28GCiwRkSf5JpX5oz75NHD95QEeheNS05NeKMNWs4Dqc_zi--Ri-i2i-iFi--ciKL2i-i8i--Ri-88i-z7i--fi-isiKnci--ciK.Ni-2fi--Ri-8si-82i--fiKy2iK.fi--Ri-8siKy2; ALF=1527475646; SUB=_2A25355DtDeRhGeRO6FUW8CnNzDuIHXVVKzClrDV8PUJbkNAKLVrakW1NUGxRMYQoegwnIxWAk_j_4_TzpY_BaQkp',\n",
    "'Host':'open.weibo.com',\n",
    "'Origin':'http://open.weibo.com',\n",
    "'Referer':'http://open.weibo.com/widget/followbutton.php',\n",
    "'User-Agent':'Mozilla/5.0 (Windows NT 6.1) AppleWebKit/537.36 (KHTML, like Gecko) Chrome/65.0.3325.32 Safari/537.36',\n",
    "}\n",
    "\n",
    "\n",
    "d={'nickname':weibo_nickname_urllib_parse_quote} \n",
    "\n",
    "newhtml=requests.post(url,headers=headers,data=d,timeout=3).text\n",
    "print(newhtml)\n",
    "print('2333')\n",
    "    "
   ]
  },
  {
   "cell_type": "code",
   "execution_count": null,
   "metadata": {},
   "outputs": [],
   "source": []
  },
  {
   "cell_type": "code",
   "execution_count": null,
   "metadata": {},
   "outputs": [],
   "source": []
  },
  {
   "cell_type": "code",
   "execution_count": null,
   "metadata": {},
   "outputs": [],
   "source": []
  }
 ],
 "metadata": {
  "kernelspec": {
   "display_name": "Python 3",
   "language": "python",
   "name": "python3"
  },
  "language_info": {
   "codemirror_mode": {
    "name": "ipython",
    "version": 3
   },
   "file_extension": ".py",
   "mimetype": "text/x-python",
   "name": "python",
   "nbconvert_exporter": "python",
   "pygments_lexer": "ipython3",
   "version": "3.6.4"
  }
 },
 "nbformat": 4,
 "nbformat_minor": 2
}
