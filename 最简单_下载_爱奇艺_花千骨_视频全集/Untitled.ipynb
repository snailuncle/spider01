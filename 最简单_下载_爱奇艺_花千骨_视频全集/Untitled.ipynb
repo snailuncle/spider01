{
 "cells": [
  {
   "cell_type": "code",
   "execution_count": 17,
   "metadata": {},
   "outputs": [
    {
     "name": "stdout",
     "output_type": "stream",
     "text": [
      "{'Accept': 'text/html,application/xhtml+xml,application/xml;q=0.9,image/webp,image/apng,*/*;q=0.8', 'Accept-Encoding': 'gzip, deflate', 'Accept-Language': 'zh-CN,zh;q=0.9', 'Connection': 'keep-alive', 'Host': 'www.iqiyi.com', 'Referer': 'http://www.iqiyi.com', 'Upgrade-Insecure-Requests': '1', 'User-Agent': 'Mozilla/5.0 (Windows NT 6.1) AppleWebKit/537.36 (KHTML, like Gecko) Chrome/65.0.3325.32 Safari/537.36'}\n"
     ]
    }
   ],
   "source": [
    "import requests\n",
    "import re,os,time,json\n",
    "\n",
    "#不加UA不返回正确信息\n",
    "old_headers='''\n",
    "Accept: text/html,application/xhtml+xml,application/xml;q=0.9,image/webp,image/apng,*/*;q=0.8\n",
    "Accept-Encoding: gzip, deflate\n",
    "Accept-Language: zh-CN,zh;q=0.9\n",
    "Connection: keep-alive\n",
    "Host: www.iqiyi.com\n",
    "Referer: http://www.iqiyi.com\n",
    "Upgrade-Insecure-Requests: 1\n",
    "User-Agent: Mozilla/5.0 (Windows NT 6.1) AppleWebKit/537.36 (KHTML, like Gecko) Chrome/65.0.3325.32 Safari/537.36\n",
    "'''\n",
    "def headers_format(headers):\n",
    "    # sub(repl, string[, count]) | re.sub(pattern, repl, string[, count]): \n",
    "    new_headers=re.sub(r'(.*): (.*)',r'\"\\1\":\"\\2\",',headers)\n",
    "    new_headers=new_headers.strip()[0:-1]\n",
    "    new_headers='{'+new_headers+'}'\n",
    "    new_headers=json.loads(new_headers)\n",
    "    return new_headers\n",
    "headers=headers_format(old_headers)\n",
    "#以上处理了headers部分\n",
    "\n",
    "\n",
    "\n",
    "\n",
    "#返回花千骨1-30集的url链接\n",
    "def huaqiangu_urls():\n",
    "    S = requests.Session()\n",
    "    #花千骨第一集链接\n",
    "    url='http://www.iqiyi.com/v_19rroheauw.html'\n",
    "    print(headers)\n",
    "    html=S.get(url,headers=headers)\n",
    "    html.encoding=html.apparent_encoding\n",
    "    html_text=html.text\n",
    "    #从网页源代码中提取url链接\n",
    "    #分为两步\n",
    "    #第一步,提取1-30集的综合信息\n",
    "    pattern=r'(?<=mixinVideos\":\\[).*?(?=\\],\"page\":1)'\n",
    "    string=html_text\n",
    "    video_info=re.search(pattern,string)\n",
    "    video_info=video_info.group()\n",
    "    #第二部,提取1-30集的url链接\n",
    "    pattern=r'(?<=\"url\":\")http://www.iqiyi.com/\\w*?.html(?=\",\"playCoun)'\n",
    "    string=video_info\n",
    "    urls=re.findall(pattern,string)\n",
    "    return list(urls)\n",
    "    \n",
    "\n",
    "    \n",
    "    return urls\n",
    "\n",
    "def video_download(url):\n",
    "    pass\n",
    "    #指定下载路径\n",
    "\n",
    "\n",
    "\n",
    "\n",
    "urls=huaqiangu_urls()\n"
   ]
  }
 ],
 "metadata": {
  "kernelspec": {
   "display_name": "Python 3",
   "language": "python",
   "name": "python3"
  },
  "language_info": {
   "codemirror_mode": {
    "name": "ipython",
    "version": 3
   },
   "file_extension": ".py",
   "mimetype": "text/x-python",
   "name": "python",
   "nbconvert_exporter": "python",
   "pygments_lexer": "ipython3",
   "version": "3.6.4"
  }
 },
 "nbformat": 4,
 "nbformat_minor": 2
}
