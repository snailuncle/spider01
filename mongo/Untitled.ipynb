{
 "cells": [
  {
   "cell_type": "code",
   "execution_count": 19,
   "metadata": {},
   "outputs": [],
   "source": [
    "import random\n",
    "import pymongo\n",
    "#建立mongo客户端\n",
    "client=pymongo.MongoClient('mongodb://localhost:27017/')\n",
    "#清空test01数据库\n",
    "client.drop_database('test01')\n",
    "#预创建test01的数据库\n",
    "db=client.test01\n",
    "#创建python对象,test01中的集合\n",
    "coll=db.coll\n"
   ]
  },
  {
   "cell_type": "code",
   "execution_count": 20,
   "metadata": {},
   "outputs": [
    {
     "name": "stdout",
     "output_type": "stream",
     "text": [
      "5ac5d09f150337227c307dd4\n"
     ]
    }
   ],
   "source": [
    "#插入记录\n",
    "rs=coll.insert_one({'a':1,\"b\":2})\n",
    "object_id=rs.inserted_id\n",
    "print(rs.inserted_id)"
   ]
  },
  {
   "cell_type": "code",
   "execution_count": 21,
   "metadata": {},
   "outputs": [],
   "source": [
    "#插入多条记录\n",
    "rs=coll.insert_many([{'a':random.randint(1,10),'b':10} for _ in range(10)])"
   ]
  },
  {
   "cell_type": "code",
   "execution_count": 22,
   "metadata": {},
   "outputs": [
    {
     "name": "stdout",
     "output_type": "stream",
     "text": [
      "[ObjectId('5ac5d0a0150337227c307dd5'), ObjectId('5ac5d0a0150337227c307dd6'), ObjectId('5ac5d0a0150337227c307dd7'), ObjectId('5ac5d0a0150337227c307dd8'), ObjectId('5ac5d0a0150337227c307dd9'), ObjectId('5ac5d0a0150337227c307dda'), ObjectId('5ac5d0a0150337227c307ddb'), ObjectId('5ac5d0a0150337227c307ddc'), ObjectId('5ac5d0a0150337227c307ddd'), ObjectId('5ac5d0a0150337227c307dde')]\n"
     ]
    }
   ],
   "source": [
    "print(rs.inserted_ids)"
   ]
  },
  {
   "cell_type": "code",
   "execution_count": 23,
   "metadata": {},
   "outputs": [
    {
     "name": "stdout",
     "output_type": "stream",
     "text": [
      "{'_id': ObjectId('5ac5d09f150337227c307dd4'), 'a': 1, 'b': 2}\n"
     ]
    }
   ],
   "source": [
    "#查询单条记录\n",
    "print(coll.find_one({'a':1,'b':2}))"
   ]
  },
  {
   "cell_type": "code",
   "execution_count": 24,
   "metadata": {},
   "outputs": [
    {
     "name": "stdout",
     "output_type": "stream",
     "text": [
      "11\n"
     ]
    }
   ],
   "source": [
    "#查询当前结合全部文档数\n",
    "print(coll.count())"
   ]
  },
  {
   "cell_type": "code",
   "execution_count": 26,
   "metadata": {},
   "outputs": [
    {
     "name": "stdout",
     "output_type": "stream",
     "text": [
      "3\n"
     ]
    }
   ],
   "source": [
    "#查询结果是游标\n",
    "cursor=coll.find({'a':{'$lte':1}})\n",
    "#符合文档的文档数\n",
    "print(cursor.count())"
   ]
  },
  {
   "cell_type": "code",
   "execution_count": 27,
   "metadata": {},
   "outputs": [
    {
     "name": "stdout",
     "output_type": "stream",
     "text": [
      "{'_id': ObjectId('5ac5d09f150337227c307dd4'), 'a': 1, 'b': 2} 2\n",
      "{'_id': ObjectId('5ac5d0a0150337227c307dd8'), 'a': 1, 'b': 10} 10\n",
      "{'_id': ObjectId('5ac5d0a0150337227c307dda'), 'a': 1, 'b': 10} 10\n"
     ]
    }
   ],
   "source": [
    "for r in cursor:\n",
    "    print(r,r['b'])"
   ]
  },
  {
   "cell_type": "code",
   "execution_count": 28,
   "metadata": {},
   "outputs": [
    {
     "name": "stdout",
     "output_type": "stream",
     "text": [
      "11\n"
     ]
    }
   ],
   "source": [
    "cursor=coll.find()\n",
    "print(cursor.count())\n",
    "\n",
    "\n",
    "for r in cursor:\n",
    "    print(r)"
   ]
  },
  {
   "cell_type": "code",
   "execution_count": 34,
   "metadata": {},
   "outputs": [
    {
     "name": "stdout",
     "output_type": "stream",
     "text": [
      "[{'_id': ObjectId('5ac5d0a0150337227c307dd8'), 'a': 1, 'b': 10}, {'_id': ObjectId('5ac5d0a0150337227c307dda'), 'a': 1, 'b': 10}, {'_id': ObjectId('5ac5d09f150337227c307dd4'), 'a': 1, 'b': 2}]\n"
     ]
    }
   ],
   "source": [
    "#对查询结果排序\n",
    "# 先find后sort\n",
    "#find() 括号中是字典  非比较符直接写值,  比较符用字典形式   key是操作符   value是参考值\n",
    "# sort()  括号中是列表  列表中是元祖   元祖,逗号隔开\n",
    "print(list(             coll.find({'a':{'$lte':1}}).sort([('b',-1)])         ))"
   ]
  },
  {
   "cell_type": "code",
   "execution_count": 41,
   "metadata": {},
   "outputs": [
    {
     "name": "stdout",
     "output_type": "stream",
     "text": [
      "{'_id': ObjectId('5ac5d0a0150337227c307dd5'), 'a': 10, 'b': 10}\n"
     ]
    }
   ],
   "source": [
    "print(coll.find({'b':{'$gt':1}}).limit(1).skip(1).next())\n",
    "             "
   ]
  },
  {
   "cell_type": "code",
   "execution_count": 47,
   "metadata": {},
   "outputs": [],
   "source": [
    "rs=coll.find_one_and_update({'a':1,'b':2},{'$set':{'b':3},'$inc':{'a':1}},upsert=False)"
   ]
  },
  {
   "cell_type": "code",
   "execution_count": 49,
   "metadata": {},
   "outputs": [
    {
     "name": "stdout",
     "output_type": "stream",
     "text": [
      "{'_id': ObjectId('5ac5d09f150337227c307dd4'), 'a': 1, 'b': 2}\n"
     ]
    }
   ],
   "source": [
    "print(rs )"
   ]
  },
  {
   "cell_type": "code",
   "execution_count": 50,
   "metadata": {},
   "outputs": [
    {
     "name": "stdout",
     "output_type": "stream",
     "text": [
      "[{'_id': ObjectId('5ac5d09f150337227c307dd4'), 'a': 2, 'b': 3}]\n"
     ]
    }
   ],
   "source": [
    "print(list(coll.find({'a':2,'b':3})))"
   ]
  },
  {
   "cell_type": "code",
   "execution_count": 51,
   "metadata": {},
   "outputs": [],
   "source": [
    "coll.find_one_and_update({'a':1,'b':2},{'$set':{'b':3},'$inc':{'a':1}},upsert=True)"
   ]
  },
  {
   "cell_type": "code",
   "execution_count": 52,
   "metadata": {},
   "outputs": [
    {
     "name": "stdout",
     "output_type": "stream",
     "text": [
      "2\n"
     ]
    }
   ],
   "source": [
    "print(coll.find({'a':2,'b':3}).count())"
   ]
  },
  {
   "cell_type": "code",
   "execution_count": 53,
   "metadata": {},
   "outputs": [
    {
     "data": {
      "text/plain": [
       "<pymongo.results.DeleteResult at 0x498abe8>"
      ]
     },
     "execution_count": 53,
     "metadata": {},
     "output_type": "execute_result"
    }
   ],
   "source": [
    "#删除单个文档\n",
    "coll.delete_one({'a':2,'b':3})"
   ]
  },
  {
   "cell_type": "code",
   "execution_count": 54,
   "metadata": {},
   "outputs": [],
   "source": [
    "#删除多个文档\n",
    "rs=coll.delete_many({'a':2,'b':3})"
   ]
  },
  {
   "cell_type": "code",
   "execution_count": 57,
   "metadata": {},
   "outputs": [
    {
     "name": "stdout",
     "output_type": "stream",
     "text": [
      "1\n"
     ]
    }
   ],
   "source": [
    "print(rs.deleted_count)"
   ]
  },
  {
   "cell_type": "code",
   "execution_count": 59,
   "metadata": {},
   "outputs": [],
   "source": [
    "#管道\n",
    "#通过$match获得符合条件的文档,传递给group来分组\n",
    "#分组计算总数count和a的平均值averageA,传递给project\n",
    "#project过滤掉字段_id\n",
    "cursor=coll.aggregate([\n",
    "    {'$match':{'b':{'$gt':1,'$lt':11}}},\n",
    "    {'$group':{'_id':None,'count':{'$sum':1},'averageA':{'$avg':'$a'}}},\n",
    "    {'$project':{'_id':0,'count':1,'averageA':1}}\n",
    "])"
   ]
  },
  {
   "cell_type": "code",
   "execution_count": 61,
   "metadata": {},
   "outputs": [
    {
     "data": {
      "text/plain": [
       "{'averageA': 6.2, 'count': 10}"
      ]
     },
     "execution_count": 61,
     "metadata": {},
     "output_type": "execute_result"
    }
   ],
   "source": [
    "cursor.next()"
   ]
  },
  {
   "cell_type": "code",
   "execution_count": 62,
   "metadata": {},
   "outputs": [],
   "source": [
    "from bson.code import Code"
   ]
  },
  {
   "cell_type": "code",
   "execution_count": 124,
   "metadata": {},
   "outputs": [],
   "source": [
    "mapper=Code(\"\"\"\n",
    "function(){\n",
    "var key;\n",
    "if (this.a<3){\n",
    "key='lt 3';\n",
    "}else{\n",
    "key='gte 3';\n",
    "}\n",
    "emit(key,1);\n",
    "}\n",
    "\"\"\")"
   ]
  },
  {
   "cell_type": "code",
   "execution_count": 87,
   "metadata": {},
   "outputs": [],
   "source": [
    "reducer=Code(\"\"\"\n",
    "function(key,values){\n",
    "return Array.sum(values)\n",
    "}\n",
    "\"\"\")\n"
   ]
  },
  {
   "cell_type": "code",
   "execution_count": 89,
   "metadata": {},
   "outputs": [],
   "source": [
    "#c存放结果的集合, query用来过滤需要计算的文档,\n",
    "#符合条件的才会做MapReduce计算\n",
    "rs=coll.map_reduce(mapper,reducer,'c',query={'b':{'$gt':1,'$lt':11}})"
   ]
  },
  {
   "cell_type": "code",
   "execution_count": 119,
   "metadata": {},
   "outputs": [
    {
     "name": "stdout",
     "output_type": "stream",
     "text": [
      "{'_id': 'gte 3', 'value': 8.0}\n",
      "{'_id': 'lt 3', 'value': 2.0}\n"
     ]
    }
   ],
   "source": [
    "for i in rs.find():\n",
    "    print(i)"
   ]
  },
  {
   "cell_type": "markdown",
   "metadata": {},
   "source": [
    "_id就是上面的键\n",
    "符合大于或者等于3的文档有8个\n",
    "符合晓宇3的有2个\n",
    "\n",
    "{'_id': 'gte 3', 'value': 8.0}\n",
    "{'_id': 'lt 3', 'value': 2.0}"
   ]
  },
  {
   "cell_type": "code",
   "execution_count": 125,
   "metadata": {},
   "outputs": [
    {
     "name": "stdout",
     "output_type": "stream",
     "text": [
      "\n",
      "function(){\n",
      "var key;\n",
      "if (this.a<3){\n",
      "key='lt 3';\n",
      "}else{\n",
      "key='gte 3';\n",
      "}\n",
      "emit(key,1);\n",
      "}\n",
      "\n",
      "12\n",
      "{'_id': ObjectId('5ac5d0a0150337227c307dd5'), 'a': 10, 'b': 10}\n",
      "{'_id': ObjectId('5ac5d0a0150337227c307dd6'), 'a': 3, 'b': 10}\n",
      "{'_id': ObjectId('5ac5d0a0150337227c307dd7'), 'a': 3, 'b': 10}\n",
      "{'_id': ObjectId('5ac5d0a0150337227c307dd8'), 'a': 1, 'b': 10}\n",
      "{'_id': ObjectId('5ac5d0a0150337227c307dd9'), 'a': 10, 'b': 10}\n",
      "{'_id': ObjectId('5ac5d0a0150337227c307dda'), 'a': 1, 'b': 10}\n",
      "{'_id': ObjectId('5ac5d0a0150337227c307ddb'), 'a': 7, 'b': 10}\n",
      "{'_id': ObjectId('5ac5d0a0150337227c307ddc'), 'a': 9, 'b': 10}\n",
      "{'_id': ObjectId('5ac5d0a0150337227c307ddd'), 'a': 10, 'b': 10}\n",
      "{'_id': ObjectId('5ac5d0a0150337227c307dde'), 'a': 8, 'b': 10}\n",
      "{'_id': ObjectId('5ac5f0aa150337227c307de7'), 'id': 'mapper', 'value': None}\n",
      "{'_id': ObjectId('5ac5f0b3150337227c307de8'), 'id': 'mapper', 'value': Code(\"\\nfunction(){\\nvar key;\\nif (this.a<3){\\nkey='lt 3';\\n}else{\\nkey='gte 3';\\n}\\nemit(key,1);\\n}\\n\", None)}\n"
     ]
    }
   ],
   "source": [
    "print(mapper)\n",
    "coll.insert_one({'id':'mapper','value':mapper})\n",
    "cursor=coll.find()\n",
    "print(cursor.count())\n",
    "\n",
    "\n",
    "for r in cursor:\n",
    "    print(r)"
   ]
  },
  {
   "cell_type": "code",
   "execution_count": 143,
   "metadata": {},
   "outputs": [
    {
     "name": "stdout",
     "output_type": "stream",
     "text": [
      "\n",
      "function(){\n",
      "var key;\n",
      "if (this.a<3){\n",
      "key='lt 3';\n",
      "}else{\n",
      "key='gte 3';\n",
      "}\n",
      "emit(key,1);\n",
      "}\n",
      "\n"
     ]
    }
   ],
   "source": [
    "\n",
    "mapper=coll.find_one({'id':'mapper','value':{'$ne':None}})['value']\n",
    "print(mapper)\n"
   ]
  },
  {
   "cell_type": "code",
   "execution_count": 145,
   "metadata": {},
   "outputs": [
    {
     "name": "stdout",
     "output_type": "stream",
     "text": [
      "[10, 3, 1, 7, 9, 8]\n"
     ]
    }
   ],
   "source": [
    "print(coll.distinct('a'))\n"
   ]
  },
  {
   "cell_type": "code",
   "execution_count": 111,
   "metadata": {},
   "outputs": [
    {
     "name": "stdout",
     "output_type": "stream",
     "text": [
      "10\n",
      "{'_id': ObjectId('5ac5d0a0150337227c307dd5'), 'a': 10, 'b': 10}\n",
      "{'_id': ObjectId('5ac5d0a0150337227c307dd6'), 'a': 3, 'b': 10}\n",
      "{'_id': ObjectId('5ac5d0a0150337227c307dd7'), 'a': 3, 'b': 10}\n",
      "{'_id': ObjectId('5ac5d0a0150337227c307dd8'), 'a': 1, 'b': 10}\n",
      "{'_id': ObjectId('5ac5d0a0150337227c307dd9'), 'a': 10, 'b': 10}\n",
      "{'_id': ObjectId('5ac5d0a0150337227c307dda'), 'a': 1, 'b': 10}\n",
      "{'_id': ObjectId('5ac5d0a0150337227c307ddb'), 'a': 7, 'b': 10}\n",
      "{'_id': ObjectId('5ac5d0a0150337227c307ddc'), 'a': 9, 'b': 10}\n",
      "{'_id': ObjectId('5ac5d0a0150337227c307ddd'), 'a': 10, 'b': 10}\n",
      "{'_id': ObjectId('5ac5d0a0150337227c307dde'), 'a': 8, 'b': 10}\n"
     ]
    }
   ],
   "source": [
    "cursor=coll.find()\n",
    "print(cursor.count())\n",
    "\n",
    "\n",
    "for r in cursor:\n",
    "    print(r)"
   ]
  },
  {
   "cell_type": "code",
   "execution_count": null,
   "metadata": {},
   "outputs": [],
   "source": []
  }
 ],
 "metadata": {
  "kernelspec": {
   "display_name": "Python 3",
   "language": "python",
   "name": "python3"
  },
  "language_info": {
   "codemirror_mode": {
    "name": "ipython",
    "version": 3
   },
   "file_extension": ".py",
   "mimetype": "text/x-python",
   "name": "python",
   "nbconvert_exporter": "python",
   "pygments_lexer": "ipython3",
   "version": "3.6.4"
  }
 },
 "nbformat": 4,
 "nbformat_minor": 2
}
