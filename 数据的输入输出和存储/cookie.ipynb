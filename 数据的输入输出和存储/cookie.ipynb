{
 "cells": [
  {
   "cell_type": "code",
   "execution_count": 43,
   "metadata": {},
   "outputs": [],
   "source": [
    "# #使用session保持连接\n",
    "# # 创建一个session对象 \n",
    "# s = requests.Session() \n",
    "# # 设置session对象的auth属性，用来作为请求的默认参数 \n",
    "# s.auth = ('user', 'pass') \n",
    "# # 设置session的headers属性，通过update方法，将其余请求方法中的headers属性合并起来作为最终的请求方法的headers \n",
    "# s.headers.update({'x-test': 'true'}) \n",
    "# # 发送请求，这里没有设置auth会默认使用session对象的auth属性，这里的headers属性会与session对象的headers属性合并 \n",
    "# r = s.get('http://httpbin.org/headers', headers={'x-test2': 'true'}) \n",
    "# # 查看发送请求的请求头 \n",
    "# r.request.headers\n",
    "\n",
    "import requests\n",
    "import time,os,re,json\n",
    "\n",
    "S=requests.Session()\n",
    "\n",
    "#不加UA不返回正确信息\n",
    "old_headers='''\n",
    "Accept: text/html,application/xhtml+xml,application/xml;q=0.9,image/webp,image/apng,*/*;q=0.8\n",
    "Accept-Encoding: gzip, deflate\n",
    "Accept-Language: zh-CN,zh;q=0.9\n",
    "Cache-Control: no-cache\n",
    "Connection: keep-alive\n",
    "Host: ip.zdaye.com\n",
    "Pragma: no-cache\n",
    "Referer: http://ip.zdaye.com/\n",
    "Upgrade-Insecure-Requests: 1\n",
    "User-Agent: Mozilla/5.0 (Windows NT 6.1) AppleWebKit/537.36 (KHTML, like Gecko) Chrome/65.0.3325.32 Safari/537.36\n",
    "'''\n",
    "def headers_format(headers):\n",
    "    # sub(repl, string[, count]) | re.sub(pattern, repl, string[, count]): \n",
    "    new_headers=re.sub(r'(.*): (.*)',r'\"\\1\":\"\\2\",',headers)\n",
    "    new_headers=new_headers.strip()[0:-1]\n",
    "    new_headers='{'+new_headers+'}'\n",
    "    new_headers=json.loads(new_headers)\n",
    "    return new_headers\n",
    "headers=headers_format(old_headers)\n",
    "#以上处理了headers部分\n",
    "\n",
    "url='http://ip.zdaye.com/'\n",
    "html=S.get(url,headers=headers)\n",
    "\n",
    "\n",
    "cookies = html.cookies\n",
    "print('; '.join(['='.join(item) for item in cookies.items()]))\n",
    "\n",
    "\n",
    "# print(html.content.decode('gbk'))\n",
    "html.encoding=html.apparent_encoding\n",
    "\n",
    "\n",
    "html=html.content\n",
    "html=html.decode('gbk') \n",
    "# html=html.text\n",
    "print(html)\n",
    "\n",
    "\n",
    "\n"
   ]
  },
  {
   "cell_type": "code",
   "execution_count": null,
   "metadata": {},
   "outputs": [],
   "source": []
  },
  {
   "cell_type": "code",
   "execution_count": null,
   "metadata": {},
   "outputs": [],
   "source": []
  },
  {
   "cell_type": "code",
   "execution_count": null,
   "metadata": {},
   "outputs": [],
   "source": []
  },
  {
   "cell_type": "code",
   "execution_count": null,
   "metadata": {},
   "outputs": [],
   "source": []
  },
  {
   "cell_type": "code",
   "execution_count": null,
   "metadata": {},
   "outputs": [],
   "source": []
  },
  {
   "cell_type": "code",
   "execution_count": null,
   "metadata": {},
   "outputs": [],
   "source": []
  },
  {
   "cell_type": "code",
   "execution_count": null,
   "metadata": {},
   "outputs": [],
   "source": []
  },
  {
   "cell_type": "code",
   "execution_count": null,
   "metadata": {},
   "outputs": [],
   "source": []
  },
  {
   "cell_type": "code",
   "execution_count": null,
   "metadata": {},
   "outputs": [],
   "source": []
  },
  {
   "cell_type": "code",
   "execution_count": null,
   "metadata": {},
   "outputs": [],
   "source": []
  },
  {
   "cell_type": "code",
   "execution_count": null,
   "metadata": {},
   "outputs": [],
   "source": []
  }
 ],
 "metadata": {
  "kernelspec": {
   "display_name": "Python 3",
   "language": "python",
   "name": "python3"
  },
  "language_info": {
   "codemirror_mode": {
    "name": "ipython",
    "version": 3
   },
   "file_extension": ".py",
   "mimetype": "text/x-python",
   "name": "python",
   "nbconvert_exporter": "python",
   "pygments_lexer": "ipython3",
   "version": "3.6.4"
  }
 },
 "nbformat": 4,
 "nbformat_minor": 2
}
